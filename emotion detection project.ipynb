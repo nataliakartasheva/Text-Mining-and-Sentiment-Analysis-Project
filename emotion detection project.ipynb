{
 "cells": [
  {
   "cell_type": "markdown",
   "id": "be325443",
   "metadata": {},
   "source": [
    "# Text Mining and Sentiment Analysis Project\n",
    "## \"How do you feel, my dear (P8)\"\n",
    "Natalia Kartasheva: 943350"
   ]
  },
  {
   "cell_type": "code",
   "execution_count": 1,
   "id": "0d5c638d",
   "metadata": {
    "ExecuteTime": {
     "end_time": "2022-04-27T13:46:36.494131Z",
     "start_time": "2022-04-27T13:46:34.062565Z"
    },
    "scrolled": true
   },
   "outputs": [
    {
     "name": "stderr",
     "output_type": "stream",
     "text": [
      "[nltk_data] Downloading package stopwords to\n",
      "[nltk_data]     C:\\Users\\karta\\AppData\\Roaming\\nltk_data...\n",
      "[nltk_data]   Package stopwords is already up-to-date!\n",
      "[nltk_data] Downloading package words to\n",
      "[nltk_data]     C:\\Users\\karta\\AppData\\Roaming\\nltk_data...\n",
      "[nltk_data]   Package words is already up-to-date!\n",
      "[nltk_data] Downloading package punkt to\n",
      "[nltk_data]     C:\\Users\\karta\\AppData\\Roaming\\nltk_data...\n",
      "[nltk_data]   Package punkt is already up-to-date!\n",
      "[nltk_data] Downloading package wordnet to\n",
      "[nltk_data]     C:\\Users\\karta\\AppData\\Roaming\\nltk_data...\n",
      "[nltk_data]   Package wordnet is already up-to-date!\n"
     ]
    }
   ],
   "source": [
    "import pandas as pd\n",
    "import numpy as np\n",
    "import seaborn as sns\n",
    "import matplotlib.pyplot as plt\n",
    "import io\n",
    "import re\n",
    "import string\n",
    "import nltk\n",
    "\n",
    "from nltk.tokenize.treebank import TreebankWordDetokenizer\n",
    "from nltk.corpus import stopwords\n",
    "from nltk.tokenize import word_tokenize\n",
    "from nltk.corpus import stopwords\n",
    "from nltk.stem import SnowballStemmer\n",
    "\n",
    "from sklearn.feature_extraction.text import CountVectorizer, TfidfVectorizer\n",
    "from sklearn.model_selection import cross_val_score, KFold\n",
    "from sklearn.pipeline import Pipeline\n",
    "from sklearn.ensemble import RandomForestClassifier\n",
    "\n",
    "from tqdm import tqdm\n",
    "\n",
    "from lightgbm import LGBMClassifier\n",
    "\n",
    "nltk.download('stopwords')\n",
    "nltk.download('words')\n",
    "nltk.download('punkt')\n",
    "nltk.download('wordnet')\n",
    "pd.set_option('display.max_rows',500)\n",
    "\n",
    "import warnings\n",
    "warnings.filterwarnings(\"ignore\")"
   ]
  },
  {
   "cell_type": "markdown",
   "id": "4b4fd59f",
   "metadata": {},
   "source": [
    "# Training data (Wassa-2017)"
   ]
  },
  {
   "cell_type": "code",
   "execution_count": 2,
   "id": "e45b7b2f",
   "metadata": {
    "ExecuteTime": {
     "end_time": "2022-04-27T13:46:36.510745Z",
     "start_time": "2022-04-27T13:46:36.495716Z"
    }
   },
   "outputs": [],
   "source": [
    "df_anger = pd.read_csv(\"anger_train.txt\", delimiter = \"\\t\", header = None)\n",
    "df_fear = pd.read_csv(\"fear_train.txt\", delimiter = \"\\t\", header = None)\n",
    "df_joy = pd.read_csv(\"joy_train.txt\", delimiter = \"\\t\", header = None)\n",
    "df_sadness = pd.read_csv(\"sadness_train.txt\", delimiter = \"\\t\", header = None)"
   ]
  },
  {
   "cell_type": "code",
   "execution_count": 3,
   "id": "1e8ed007",
   "metadata": {
    "ExecuteTime": {
     "end_time": "2022-04-27T13:46:36.513578Z",
     "start_time": "2022-04-27T13:46:36.511497Z"
    }
   },
   "outputs": [],
   "source": [
    "dfs = [df_anger, df_fear, df_joy, df_sadness]"
   ]
  },
  {
   "cell_type": "markdown",
   "id": "9e5cd27f",
   "metadata": {},
   "source": [
    "Renaming columns"
   ]
  },
  {
   "cell_type": "code",
   "execution_count": 4,
   "id": "7c64f4d4",
   "metadata": {
    "ExecuteTime": {
     "end_time": "2022-04-27T13:46:36.517228Z",
     "start_time": "2022-04-27T13:46:36.514804Z"
    }
   },
   "outputs": [],
   "source": [
    "for df in dfs:\n",
    "    df.columns = [\"code\", \"tweet\", \"sentiment\", \"intensity\"]"
   ]
  },
  {
   "cell_type": "markdown",
   "id": "5b1381a4",
   "metadata": {},
   "source": [
    "Remove some noise: exclude from the analysis the intermediate level of emotions."
   ]
  },
  {
   "cell_type": "code",
   "execution_count": 5,
   "id": "bdc907ec",
   "metadata": {
    "ExecuteTime": {
     "end_time": "2022-04-27T13:46:36.524240Z",
     "start_time": "2022-04-27T13:46:36.519004Z"
    }
   },
   "outputs": [],
   "source": [
    "for df in dfs:\n",
    "    df = df[~df['intensity'].between(0.35, 0.65)]"
   ]
  },
  {
   "cell_type": "markdown",
   "id": "43451025",
   "metadata": {},
   "source": [
    "Cleaning tweets"
   ]
  },
  {
   "cell_type": "code",
   "execution_count": 6,
   "id": "c6e06ba9",
   "metadata": {
    "ExecuteTime": {
     "end_time": "2022-04-27T13:46:36.530434Z",
     "start_time": "2022-04-27T13:46:36.525023Z"
    }
   },
   "outputs": [],
   "source": [
    "#Create a function to categorize the intensity of the emotion\n",
    "def categorize(df, column = \"intensity\", threshold = 0.55):\n",
    "    df.loc[df[column]  <= threshold, column] = 0\n",
    "    df.loc[df[column] > threshold, column] = 1\n",
    "    \n",
    "# remove non-english words:\n",
    "def english_words(text):\n",
    "    words = set(nltk.corpus.words.words())\n",
    "    return \" \".join(w for w in nltk.wordpunct_tokenize(text) if w.lower() in words or not w.isalpha())\n",
    "    \n",
    "#Create a function to clean the tweets\n",
    "def cleanTweets(text):\n",
    "    text = re.sub(r'(@[A-Za-z0-9?_?]+)','', text) #removes @mentions\n",
    "    text = re.sub(r'#','',text) #removes \"#\"\"\n",
    "    text = re.sub(r'RT[\\s]+', '', text) #removes retweet\n",
    "    text = re.sub(r'http?:\\/\\/\\S+' , '', text) #removes hyperlink\n",
    "    text = re.sub('[^\\w\\s]',' ', text) #Remove punctuation\n",
    "    text = re.sub('\\s+', ' ', text) #Remove double spaces\n",
    "    text = re.sub(r'\\d+','', text) #Remove number\n",
    "        \n",
    "    return text\n",
    "\n",
    "#Lemmatization\n",
    "w_tokenizer = nltk.tokenize.WhitespaceTokenizer()\n",
    "lemmatizer = nltk.stem.WordNetLemmatizer()\n",
    "def lemmatize_text(text):\n",
    "    return [TreebankWordDetokenizer().detokenize(lemmatizer.lemmatize(w) for w in w_tokenizer.tokenize(text))]\n",
    "\n",
    "# Python program to convert a list to string\n",
    "def listToString(s): \n",
    "    str1 = \"\"   # initialize an empty string\n",
    "    for ele in s: \n",
    "        str1 += ele  # traverse in the string \n",
    "    return str1 "
   ]
  },
  {
   "cell_type": "code",
   "execution_count": 7,
   "id": "84a773d5",
   "metadata": {
    "ExecuteTime": {
     "end_time": "2022-04-27T13:46:36.534596Z",
     "start_time": "2022-04-27T13:46:36.531321Z"
    }
   },
   "outputs": [],
   "source": [
    "stop_words = stopwords.words(\"english\")\n",
    "stop_words.extend(['im', 'ima'])"
   ]
  },
  {
   "cell_type": "code",
   "execution_count": 8,
   "id": "0687b7be",
   "metadata": {
    "ExecuteTime": {
     "end_time": "2022-04-27T13:50:41.655567Z",
     "start_time": "2022-04-27T13:46:36.535521Z"
    }
   },
   "outputs": [
    {
     "name": "stderr",
     "output_type": "stream",
     "text": [
      "100%|███████████████████████████████████████████████████████████████████████████████████████████████████████████████████████████████████████████████████████████████████████████| 4/4 [04:05<00:00, 61.28s/it]\n"
     ]
    }
   ],
   "source": [
    "#For each of the four dataset apply the preprocessing\n",
    "for df in tqdm(dfs):\n",
    "    categorize(df)\n",
    "    df[\"tweet_cleaned\"] = df[\"tweet\"].apply(english_words)\n",
    "    df[\"tweet_cleaned\"] = df[\"tweet\"].apply(cleanTweets)\n",
    "    df[\"tweet_cleaned\"] = df[\"tweet_cleaned\"].str.lower()\n",
    "    df[\"tweet_cleaned\"] = df[\"tweet_cleaned\"].apply(lambda x: ' '.join([item for item in x.split() \\\n",
    "                                                                        if item not in stop_words]))\n",
    "    df[\"tweet_cleaned\"] = df[\"tweet_cleaned\"].apply(lemmatize_text)\n",
    "    df[\"tweet_cleaned\"] = df[\"tweet_cleaned\"].apply(listToString)"
   ]
  },
  {
   "cell_type": "code",
   "execution_count": 9,
   "id": "4fd0f3e4",
   "metadata": {
    "ExecuteTime": {
     "end_time": "2022-04-27T13:50:41.659144Z",
     "start_time": "2022-04-27T13:50:41.656536Z"
    }
   },
   "outputs": [],
   "source": [
    "snowball = SnowballStemmer(language='english')\n",
    "\n",
    "def tokenize_tweet(x):\n",
    "    x = x.lower()\n",
    "    tokens = word_tokenize(x, language='english')\n",
    "    tokens = [i for i in tokens if i not in string.punctuation]\n",
    "    tokens = [i for i in tokens if i not in stop_words]\n",
    "    stemmed_tokens = [snowball.stem(i) for i in tokens]\n",
    "    return stemmed_tokens"
   ]
  },
  {
   "cell_type": "code",
   "execution_count": 10,
   "id": "dea42837",
   "metadata": {
    "ExecuteTime": {
     "end_time": "2022-04-27T13:50:42.267829Z",
     "start_time": "2022-04-27T13:50:41.659963Z"
    }
   },
   "outputs": [],
   "source": [
    "for df in dfs:\n",
    "    df['tweet_tokenized'] = [tokenize_tweet(x) for x in df['tweet_cleaned']]"
   ]
  },
  {
   "cell_type": "code",
   "execution_count": 11,
   "id": "f1c0dee3",
   "metadata": {
    "ExecuteTime": {
     "end_time": "2022-04-27T13:50:42.270763Z",
     "start_time": "2022-04-27T13:50:42.268739Z"
    }
   },
   "outputs": [],
   "source": [
    "df_anger = dfs[0]\n",
    "df_fear = dfs[1]\n",
    "df_joy = dfs[2]\n",
    "df_sadness = dfs[3]"
   ]
  },
  {
   "cell_type": "markdown",
   "id": "ed3fef63",
   "metadata": {},
   "source": [
    "## anger model"
   ]
  },
  {
   "cell_type": "code",
   "execution_count": 12,
   "id": "d0a79c0c",
   "metadata": {
    "ExecuteTime": {
     "end_time": "2022-04-27T13:50:45.011085Z",
     "start_time": "2022-04-27T13:50:42.271635Z"
    }
   },
   "outputs": [],
   "source": [
    "vectorizer = TfidfVectorizer(tokenizer = lambda x: tokenize_tweet(x))\n",
    "features = vectorizer.fit_transform(df_anger['tweet_cleaned'])\n",
    "cross_v = KFold(n_splits = 5, random_state = 1, shuffle = True)\n",
    "\n",
    "model_1 = LGBMClassifier()\n",
    "model_2 = RandomForestClassifier()\n",
    "\n",
    "scores_lgbm = cross_val_score(model_1, features, df_anger['intensity'], \n",
    "                              scoring = 'accuracy', cv = cross_v, n_jobs = -1)\n",
    "\n",
    "scores_rf = cross_val_score(model_2, features, df_anger['intensity'], \n",
    "                              scoring = 'accuracy', cv = cross_v, n_jobs = -1)"
   ]
  },
  {
   "cell_type": "code",
   "execution_count": 13,
   "id": "119f41e8",
   "metadata": {
    "ExecuteTime": {
     "end_time": "2022-04-27T13:50:45.016123Z",
     "start_time": "2022-04-27T13:50:45.013060Z"
    }
   },
   "outputs": [
    {
     "name": "stdout",
     "output_type": "stream",
     "text": [
      "LGBM mean score:  0.6814497484020128\n",
      "RF mean score:  0.7456344349245205\n"
     ]
    }
   ],
   "source": [
    "print('LGBM mean score: ', np.mean(scores_lgbm))\n",
    "print('RF mean score: ', np.mean(scores_rf))"
   ]
  },
  {
   "cell_type": "code",
   "execution_count": 14,
   "id": "9d4cd0cd",
   "metadata": {
    "ExecuteTime": {
     "end_time": "2022-04-27T13:50:45.022958Z",
     "start_time": "2022-04-27T13:50:45.020115Z"
    }
   },
   "outputs": [],
   "source": [
    "pipeline_anger = Pipeline([\n",
    "    (\"vectorizer\", TfidfVectorizer(tokenizer = lambda x: tokenize_tweet(x))),\n",
    "    (\"model\", RandomForestClassifier())\n",
    "])"
   ]
  },
  {
   "cell_type": "code",
   "execution_count": 15,
   "id": "691d9a32",
   "metadata": {
    "ExecuteTime": {
     "end_time": "2022-04-27T13:50:45.397779Z",
     "start_time": "2022-04-27T13:50:45.024064Z"
    },
    "scrolled": true
   },
   "outputs": [
    {
     "data": {
      "text/plain": [
       "Pipeline(steps=[('vectorizer',\n",
       "                 TfidfVectorizer(tokenizer=<function <lambda> at 0x7fefb1c92ee0>)),\n",
       "                ('model', RandomForestClassifier())])"
      ]
     },
     "execution_count": 15,
     "metadata": {},
     "output_type": "execute_result"
    }
   ],
   "source": [
    "pipeline_anger.fit(df_anger['tweet_cleaned'], df_anger['intensity'])"
   ]
  },
  {
   "cell_type": "markdown",
   "id": "44e0987f",
   "metadata": {},
   "source": [
    "## fear model"
   ]
  },
  {
   "cell_type": "code",
   "execution_count": 16,
   "id": "374ec451",
   "metadata": {
    "ExecuteTime": {
     "end_time": "2022-04-27T13:50:47.239249Z",
     "start_time": "2022-04-27T13:50:45.398860Z"
    }
   },
   "outputs": [],
   "source": [
    "vectorizer = TfidfVectorizer(tokenizer = lambda x: tokenize_tweet(x))\n",
    "features = vectorizer.fit_transform(df_fear['tweet_cleaned'])\n",
    "cross_v = KFold(n_splits = 5, random_state = 1, shuffle = True)\n",
    "\n",
    "model_1 = LGBMClassifier()\n",
    "model_2 = RandomForestClassifier()\n",
    "\n",
    "scores_lgbm = cross_val_score(model_1, features, df_fear['intensity'], \n",
    "                              scoring = 'accuracy', cv = cross_v, n_jobs = -1)\n",
    "\n",
    "scores_rf = cross_val_score(model_2, features, df_fear['intensity'], \n",
    "                              scoring = 'accuracy', cv = cross_v, n_jobs = -1)"
   ]
  },
  {
   "cell_type": "code",
   "execution_count": 17,
   "id": "a421ece8",
   "metadata": {
    "ExecuteTime": {
     "end_time": "2022-04-27T13:50:47.242512Z",
     "start_time": "2022-04-27T13:50:47.240295Z"
    }
   },
   "outputs": [
    {
     "name": "stdout",
     "output_type": "stream",
     "text": [
      "LGBM mean score:  0.7183861780899943\n",
      "RF mean score:  0.7035428137459655\n"
     ]
    }
   ],
   "source": [
    "print('LGBM mean score: ', np.mean(scores_lgbm))\n",
    "print('RF mean score: ', np.mean(scores_rf))"
   ]
  },
  {
   "cell_type": "code",
   "execution_count": 18,
   "id": "fc10a7d9",
   "metadata": {
    "ExecuteTime": {
     "end_time": "2022-04-27T13:50:47.245225Z",
     "start_time": "2022-04-27T13:50:47.243285Z"
    }
   },
   "outputs": [],
   "source": [
    "pipeline_fear = Pipeline([\n",
    "    (\"vectorizer\", TfidfVectorizer(tokenizer = lambda x: tokenize_tweet(x))),\n",
    "    (\"model\", RandomForestClassifier())\n",
    "])"
   ]
  },
  {
   "cell_type": "code",
   "execution_count": 19,
   "id": "c74a4a84",
   "metadata": {
    "ExecuteTime": {
     "end_time": "2022-04-27T13:50:47.753240Z",
     "start_time": "2022-04-27T13:50:47.246079Z"
    },
    "scrolled": true
   },
   "outputs": [
    {
     "data": {
      "text/plain": [
       "Pipeline(steps=[('vectorizer',\n",
       "                 TfidfVectorizer(tokenizer=<function <lambda> at 0x7fefc66053a0>)),\n",
       "                ('model', RandomForestClassifier())])"
      ]
     },
     "execution_count": 19,
     "metadata": {},
     "output_type": "execute_result"
    }
   ],
   "source": [
    "pipeline_fear.fit(df_fear['tweet_cleaned'], df_fear['intensity'])"
   ]
  },
  {
   "cell_type": "markdown",
   "id": "c7e586e1",
   "metadata": {},
   "source": [
    "## joy model"
   ]
  },
  {
   "cell_type": "code",
   "execution_count": 20,
   "id": "444e1b73",
   "metadata": {
    "ExecuteTime": {
     "end_time": "2022-04-27T13:50:48.373709Z",
     "start_time": "2022-04-27T13:50:47.754044Z"
    }
   },
   "outputs": [],
   "source": [
    "vectorizer = TfidfVectorizer(tokenizer = lambda x: tokenize_tweet(x))\n",
    "features = vectorizer.fit_transform(df_joy['tweet_cleaned'])\n",
    "cross_v = KFold(n_splits = 5, random_state = 1, shuffle = True)\n",
    "\n",
    "model_1 = LGBMClassifier()\n",
    "model_2 = RandomForestClassifier()\n",
    "\n",
    "scores_lgbm = cross_val_score(model_1, features, df_joy['intensity'], \n",
    "                              scoring = 'accuracy', cv = cross_v, n_jobs = -1)\n",
    "\n",
    "scores_rf = cross_val_score(model_2, features, df_joy['intensity'], \n",
    "                              scoring = 'accuracy', cv = cross_v, n_jobs = -1)"
   ]
  },
  {
   "cell_type": "code",
   "execution_count": 21,
   "id": "d3201902",
   "metadata": {
    "ExecuteTime": {
     "end_time": "2022-04-27T13:50:48.376670Z",
     "start_time": "2022-04-27T13:50:48.374590Z"
    }
   },
   "outputs": [
    {
     "name": "stdout",
     "output_type": "stream",
     "text": [
      "LGBM mean score:  0.6646711012564671\n",
      "RF mean score:  0.7047006651884701\n"
     ]
    }
   ],
   "source": [
    "print('LGBM mean score: ', np.mean(scores_lgbm))\n",
    "print('RF mean score: ', np.mean(scores_rf))"
   ]
  },
  {
   "cell_type": "code",
   "execution_count": 22,
   "id": "884dfce8",
   "metadata": {
    "ExecuteTime": {
     "end_time": "2022-04-27T13:50:48.379268Z",
     "start_time": "2022-04-27T13:50:48.377363Z"
    }
   },
   "outputs": [],
   "source": [
    "pipeline_joy = Pipeline([\n",
    "    (\"vectorizer\", TfidfVectorizer(tokenizer = lambda x: tokenize_tweet(x))),\n",
    "    (\"model\", RandomForestClassifier())\n",
    "])"
   ]
  },
  {
   "cell_type": "code",
   "execution_count": 23,
   "id": "ee0b0edb",
   "metadata": {
    "ExecuteTime": {
     "end_time": "2022-04-27T13:50:48.758010Z",
     "start_time": "2022-04-27T13:50:48.380094Z"
    },
    "scrolled": true
   },
   "outputs": [
    {
     "data": {
      "text/plain": [
       "Pipeline(steps=[('vectorizer',\n",
       "                 TfidfVectorizer(tokenizer=<function <lambda> at 0x7fefc65e2310>)),\n",
       "                ('model', RandomForestClassifier())])"
      ]
     },
     "execution_count": 23,
     "metadata": {},
     "output_type": "execute_result"
    }
   ],
   "source": [
    "pipeline_joy.fit(df_joy['tweet_cleaned'], df_joy['intensity'])"
   ]
  },
  {
   "cell_type": "markdown",
   "id": "f0ed02e6",
   "metadata": {},
   "source": [
    "## sadness model"
   ]
  },
  {
   "cell_type": "code",
   "execution_count": 24,
   "id": "88c82f8b",
   "metadata": {
    "ExecuteTime": {
     "end_time": "2022-04-27T13:50:49.738729Z",
     "start_time": "2022-04-27T13:50:48.758810Z"
    }
   },
   "outputs": [],
   "source": [
    "vectorizer = TfidfVectorizer(tokenizer = lambda x: tokenize_tweet(x))\n",
    "features = vectorizer.fit_transform(df_sadness['tweet_cleaned'])\n",
    "cross_v = KFold(n_splits = 5, random_state = 1, shuffle = True)\n",
    "\n",
    "model_1 = LGBMClassifier()\n",
    "model_2 = RandomForestClassifier()\n",
    "\n",
    "scores_lgbm = cross_val_score(model_1, features, df_sadness['intensity'], \n",
    "                              scoring = 'accuracy', cv = cross_v, n_jobs = -1)\n",
    "\n",
    "scores_rf = cross_val_score(model_2, features, df_sadness['intensity'], \n",
    "                              scoring = 'accuracy', cv = cross_v, n_jobs = -1)"
   ]
  },
  {
   "cell_type": "code",
   "execution_count": 25,
   "id": "056b4dce",
   "metadata": {
    "ExecuteTime": {
     "end_time": "2022-04-27T13:50:49.741720Z",
     "start_time": "2022-04-27T13:50:49.739596Z"
    }
   },
   "outputs": [
    {
     "name": "stdout",
     "output_type": "stream",
     "text": [
      "LGBM mean score:  0.7239296944287672\n",
      "RF mean score:  0.7238974441667338\n"
     ]
    }
   ],
   "source": [
    "print('LGBM mean score: ', np.mean(scores_lgbm))\n",
    "print('RF mean score: ', np.mean(scores_rf))"
   ]
  },
  {
   "cell_type": "code",
   "execution_count": 26,
   "id": "10307c75",
   "metadata": {
    "ExecuteTime": {
     "end_time": "2022-04-27T13:50:49.744374Z",
     "start_time": "2022-04-27T13:50:49.742476Z"
    }
   },
   "outputs": [],
   "source": [
    "pipeline_sadness = Pipeline([\n",
    "    (\"vectorizer\", TfidfVectorizer(tokenizer = lambda x: tokenize_tweet(x))),\n",
    "    (\"model\", RandomForestClassifier())\n",
    "])"
   ]
  },
  {
   "cell_type": "code",
   "execution_count": 27,
   "id": "d2a942e2",
   "metadata": {
    "ExecuteTime": {
     "end_time": "2022-04-27T13:50:50.094854Z",
     "start_time": "2022-04-27T13:50:49.745113Z"
    },
    "scrolled": true
   },
   "outputs": [
    {
     "data": {
      "text/plain": [
       "Pipeline(steps=[('vectorizer',\n",
       "                 TfidfVectorizer(tokenizer=<function <lambda> at 0x7fefb1d0a280>)),\n",
       "                ('model', RandomForestClassifier())])"
      ]
     },
     "execution_count": 27,
     "metadata": {},
     "output_type": "execute_result"
    }
   ],
   "source": [
    "pipeline_sadness.fit(df_sadness['tweet_cleaned'], df_sadness['intensity'])"
   ]
  },
  {
   "cell_type": "markdown",
   "id": "1771a7d1",
   "metadata": {},
   "source": [
    "Great. Now we have a pipeline model for each of emotions."
   ]
  },
  {
   "cell_type": "code",
   "execution_count": 28,
   "id": "d716f454",
   "metadata": {
    "ExecuteTime": {
     "end_time": "2022-04-27T13:50:50.097491Z",
     "start_time": "2022-04-27T13:50:50.095659Z"
    }
   },
   "outputs": [],
   "source": [
    "models = {'anger' : pipeline_anger,\n",
    "          'fear' : pipeline_fear,\n",
    "          'joy' : pipeline_joy,\n",
    "          'sadness' : pipeline_sadness}"
   ]
  },
  {
   "cell_type": "markdown",
   "id": "e6455084",
   "metadata": {},
   "source": [
    "# Prediction data"
   ]
  },
  {
   "cell_type": "code",
   "execution_count": 29,
   "id": "94829b20",
   "metadata": {
    "ExecuteTime": {
     "end_time": "2022-04-27T13:50:50.100442Z",
     "start_time": "2022-04-27T13:50:50.098191Z"
    }
   },
   "outputs": [],
   "source": [
    "df_text = io.open('cornell movie-dialogs corpus/movie_lines.txt',\"r\",encoding='ISO-8859-1')"
   ]
  },
  {
   "cell_type": "code",
   "execution_count": 30,
   "id": "ea9771f4",
   "metadata": {
    "ExecuteTime": {
     "end_time": "2022-04-27T13:50:50.121220Z",
     "start_time": "2022-04-27T13:50:50.101382Z"
    }
   },
   "outputs": [],
   "source": [
    "df_text = df_text.read()"
   ]
  },
  {
   "cell_type": "code",
   "execution_count": 31,
   "id": "44aa03b4",
   "metadata": {
    "ExecuteTime": {
     "end_time": "2022-04-27T13:50:50.172597Z",
     "start_time": "2022-04-27T13:50:50.122554Z"
    }
   },
   "outputs": [],
   "source": [
    "df_text = df_text.split('\\n')"
   ]
  },
  {
   "cell_type": "code",
   "execution_count": 32,
   "id": "0258e0ac",
   "metadata": {
    "ExecuteTime": {
     "end_time": "2022-04-27T13:50:50.659164Z",
     "start_time": "2022-04-27T13:50:50.173554Z"
    }
   },
   "outputs": [],
   "source": [
    "df_text = pd.DataFrame([x.split('+++$+++') for x in df_text])"
   ]
  },
  {
   "cell_type": "code",
   "execution_count": 33,
   "id": "2cef1210",
   "metadata": {
    "ExecuteTime": {
     "end_time": "2022-04-27T13:50:50.662052Z",
     "start_time": "2022-04-27T13:50:50.660076Z"
    }
   },
   "outputs": [],
   "source": [
    "df_text.columns = ['lineID', 'characterID', 'movieID', 'character name', 'text']"
   ]
  },
  {
   "cell_type": "code",
   "execution_count": 34,
   "id": "ed5d788a",
   "metadata": {
    "ExecuteTime": {
     "end_time": "2022-04-27T13:50:50.790556Z",
     "start_time": "2022-04-27T13:50:50.662936Z"
    }
   },
   "outputs": [],
   "source": [
    "df_text['lineID'] = df_text['lineID'].str.replace(' ', '')"
   ]
  },
  {
   "cell_type": "code",
   "execution_count": 35,
   "id": "3f411ab8",
   "metadata": {
    "ExecuteTime": {
     "end_time": "2022-04-27T13:50:50.799786Z",
     "start_time": "2022-04-27T13:50:50.791624Z"
    },
    "scrolled": true
   },
   "outputs": [
    {
     "data": {
      "text/html": [
       "<div>\n",
       "<style scoped>\n",
       "    .dataframe tbody tr th:only-of-type {\n",
       "        vertical-align: middle;\n",
       "    }\n",
       "\n",
       "    .dataframe tbody tr th {\n",
       "        vertical-align: top;\n",
       "    }\n",
       "\n",
       "    .dataframe thead th {\n",
       "        text-align: right;\n",
       "    }\n",
       "</style>\n",
       "<table border=\"1\" class=\"dataframe\">\n",
       "  <thead>\n",
       "    <tr style=\"text-align: right;\">\n",
       "      <th></th>\n",
       "      <th>lineID</th>\n",
       "      <th>characterID</th>\n",
       "      <th>movieID</th>\n",
       "      <th>character name</th>\n",
       "      <th>text</th>\n",
       "    </tr>\n",
       "  </thead>\n",
       "  <tbody>\n",
       "    <tr>\n",
       "      <th>0</th>\n",
       "      <td>L1045</td>\n",
       "      <td>u0</td>\n",
       "      <td>m0</td>\n",
       "      <td>BIANCA</td>\n",
       "      <td>They do not!</td>\n",
       "    </tr>\n",
       "    <tr>\n",
       "      <th>1</th>\n",
       "      <td>L1044</td>\n",
       "      <td>u2</td>\n",
       "      <td>m0</td>\n",
       "      <td>CAMERON</td>\n",
       "      <td>They do to!</td>\n",
       "    </tr>\n",
       "    <tr>\n",
       "      <th>2</th>\n",
       "      <td>L985</td>\n",
       "      <td>u0</td>\n",
       "      <td>m0</td>\n",
       "      <td>BIANCA</td>\n",
       "      <td>I hope so.</td>\n",
       "    </tr>\n",
       "    <tr>\n",
       "      <th>3</th>\n",
       "      <td>L984</td>\n",
       "      <td>u2</td>\n",
       "      <td>m0</td>\n",
       "      <td>CAMERON</td>\n",
       "      <td>She okay?</td>\n",
       "    </tr>\n",
       "    <tr>\n",
       "      <th>4</th>\n",
       "      <td>L925</td>\n",
       "      <td>u0</td>\n",
       "      <td>m0</td>\n",
       "      <td>BIANCA</td>\n",
       "      <td>Let's go.</td>\n",
       "    </tr>\n",
       "  </tbody>\n",
       "</table>\n",
       "</div>"
      ],
      "text/plain": [
       "  lineID characterID movieID character name           text\n",
       "0  L1045         u0      m0         BIANCA    They do not!\n",
       "1  L1044         u2      m0        CAMERON     They do to!\n",
       "2   L985         u0      m0         BIANCA      I hope so.\n",
       "3   L984         u2      m0        CAMERON       She okay?\n",
       "4   L925         u0      m0         BIANCA       Let's go."
      ]
     },
     "execution_count": 35,
     "metadata": {},
     "output_type": "execute_result"
    }
   ],
   "source": [
    "df_text.head()"
   ]
  },
  {
   "cell_type": "code",
   "execution_count": null,
   "id": "7e8e2d8c",
   "metadata": {},
   "outputs": [],
   "source": []
  },
  {
   "cell_type": "markdown",
   "id": "3201f267",
   "metadata": {},
   "source": [
    "# Dialog structure"
   ]
  },
  {
   "cell_type": "code",
   "execution_count": 36,
   "id": "68dc7fc6",
   "metadata": {
    "ExecuteTime": {
     "end_time": "2022-04-27T13:50:50.802730Z",
     "start_time": "2022-04-27T13:50:50.800879Z"
    }
   },
   "outputs": [],
   "source": [
    "df_conv = io.open('cornell movie-dialogs corpus/movie_conversations.txt',\"r\",encoding='ISO-8859-1')"
   ]
  },
  {
   "cell_type": "code",
   "execution_count": 37,
   "id": "deea8cfb",
   "metadata": {
    "ExecuteTime": {
     "end_time": "2022-04-27T13:50:50.808854Z",
     "start_time": "2022-04-27T13:50:50.803538Z"
    }
   },
   "outputs": [],
   "source": [
    "df_conv = df_conv.read()"
   ]
  },
  {
   "cell_type": "code",
   "execution_count": 38,
   "id": "30aa587e",
   "metadata": {
    "ExecuteTime": {
     "end_time": "2022-04-27T13:50:50.819560Z",
     "start_time": "2022-04-27T13:50:50.809679Z"
    }
   },
   "outputs": [],
   "source": [
    "df_conv = df_conv.split('\\n')"
   ]
  },
  {
   "cell_type": "code",
   "execution_count": 39,
   "id": "d20cdd8f",
   "metadata": {
    "ExecuteTime": {
     "end_time": "2022-04-27T13:50:50.916487Z",
     "start_time": "2022-04-27T13:50:50.820776Z"
    }
   },
   "outputs": [],
   "source": [
    "df_conv = pd.DataFrame([x.split('+++$+++') for x in df_conv])"
   ]
  },
  {
   "cell_type": "code",
   "execution_count": 40,
   "id": "a261ddd2",
   "metadata": {
    "ExecuteTime": {
     "end_time": "2022-04-27T13:50:50.919483Z",
     "start_time": "2022-04-27T13:50:50.917364Z"
    }
   },
   "outputs": [],
   "source": [
    "df_conv.columns = ['characterID_1', 'characterID_2', 'movieID', 'sequence']"
   ]
  },
  {
   "cell_type": "code",
   "execution_count": 41,
   "id": "5cd2cd1e",
   "metadata": {
    "ExecuteTime": {
     "end_time": "2022-04-27T13:50:50.929647Z",
     "start_time": "2022-04-27T13:50:50.925026Z"
    },
    "scrolled": true
   },
   "outputs": [
    {
     "data": {
      "text/html": [
       "<div>\n",
       "<style scoped>\n",
       "    .dataframe tbody tr th:only-of-type {\n",
       "        vertical-align: middle;\n",
       "    }\n",
       "\n",
       "    .dataframe tbody tr th {\n",
       "        vertical-align: top;\n",
       "    }\n",
       "\n",
       "    .dataframe thead th {\n",
       "        text-align: right;\n",
       "    }\n",
       "</style>\n",
       "<table border=\"1\" class=\"dataframe\">\n",
       "  <thead>\n",
       "    <tr style=\"text-align: right;\">\n",
       "      <th></th>\n",
       "      <th>characterID_1</th>\n",
       "      <th>characterID_2</th>\n",
       "      <th>movieID</th>\n",
       "      <th>sequence</th>\n",
       "    </tr>\n",
       "  </thead>\n",
       "  <tbody>\n",
       "    <tr>\n",
       "      <th>0</th>\n",
       "      <td>u0</td>\n",
       "      <td>u2</td>\n",
       "      <td>m0</td>\n",
       "      <td>['L194', 'L195', 'L196', 'L197']</td>\n",
       "    </tr>\n",
       "    <tr>\n",
       "      <th>1</th>\n",
       "      <td>u0</td>\n",
       "      <td>u2</td>\n",
       "      <td>m0</td>\n",
       "      <td>['L198', 'L199']</td>\n",
       "    </tr>\n",
       "    <tr>\n",
       "      <th>2</th>\n",
       "      <td>u0</td>\n",
       "      <td>u2</td>\n",
       "      <td>m0</td>\n",
       "      <td>['L200', 'L201', 'L202', 'L203']</td>\n",
       "    </tr>\n",
       "    <tr>\n",
       "      <th>3</th>\n",
       "      <td>u0</td>\n",
       "      <td>u2</td>\n",
       "      <td>m0</td>\n",
       "      <td>['L204', 'L205', 'L206']</td>\n",
       "    </tr>\n",
       "    <tr>\n",
       "      <th>4</th>\n",
       "      <td>u0</td>\n",
       "      <td>u2</td>\n",
       "      <td>m0</td>\n",
       "      <td>['L207', 'L208']</td>\n",
       "    </tr>\n",
       "  </tbody>\n",
       "</table>\n",
       "</div>"
      ],
      "text/plain": [
       "  characterID_1 characterID_2 movieID                           sequence\n",
       "0           u0            u2      m0    ['L194', 'L195', 'L196', 'L197']\n",
       "1           u0            u2      m0                    ['L198', 'L199']\n",
       "2           u0            u2      m0    ['L200', 'L201', 'L202', 'L203']\n",
       "3           u0            u2      m0            ['L204', 'L205', 'L206']\n",
       "4           u0            u2      m0                    ['L207', 'L208']"
      ]
     },
     "execution_count": 41,
     "metadata": {},
     "output_type": "execute_result"
    }
   ],
   "source": [
    "df_conv.head()"
   ]
  },
  {
   "cell_type": "code",
   "execution_count": 42,
   "id": "6204bbc6",
   "metadata": {
    "ExecuteTime": {
     "end_time": "2022-04-27T13:50:50.932939Z",
     "start_time": "2022-04-27T13:50:50.930443Z"
    }
   },
   "outputs": [
    {
     "data": {
      "text/plain": [
       "(83098, 4)"
      ]
     },
     "execution_count": 42,
     "metadata": {},
     "output_type": "execute_result"
    }
   ],
   "source": [
    "df_conv.shape"
   ]
  },
  {
   "cell_type": "markdown",
   "id": "d2fe1210",
   "metadata": {},
   "source": [
    "Example of how the dialog looks like"
   ]
  },
  {
   "cell_type": "code",
   "execution_count": 43,
   "id": "603974b3",
   "metadata": {
    "ExecuteTime": {
     "end_time": "2022-04-27T13:50:50.959552Z",
     "start_time": "2022-04-27T13:50:50.933733Z"
    }
   },
   "outputs": [
    {
     "data": {
      "text/html": [
       "<div>\n",
       "<style scoped>\n",
       "    .dataframe tbody tr th:only-of-type {\n",
       "        vertical-align: middle;\n",
       "    }\n",
       "\n",
       "    .dataframe tbody tr th {\n",
       "        vertical-align: top;\n",
       "    }\n",
       "\n",
       "    .dataframe thead th {\n",
       "        text-align: right;\n",
       "    }\n",
       "</style>\n",
       "<table border=\"1\" class=\"dataframe\">\n",
       "  <thead>\n",
       "    <tr style=\"text-align: right;\">\n",
       "      <th></th>\n",
       "      <th>lineID</th>\n",
       "      <th>characterID</th>\n",
       "      <th>movieID</th>\n",
       "      <th>character name</th>\n",
       "      <th>text</th>\n",
       "    </tr>\n",
       "  </thead>\n",
       "  <tbody>\n",
       "    <tr>\n",
       "      <th>68</th>\n",
       "      <td>L194</td>\n",
       "      <td>u0</td>\n",
       "      <td>m0</td>\n",
       "      <td>BIANCA</td>\n",
       "      <td>Can we make this quick?  Roxanne Korrine and ...</td>\n",
       "    </tr>\n",
       "    <tr>\n",
       "      <th>67</th>\n",
       "      <td>L195</td>\n",
       "      <td>u2</td>\n",
       "      <td>m0</td>\n",
       "      <td>CAMERON</td>\n",
       "      <td>Well, I thought we'd start with pronunciation...</td>\n",
       "    </tr>\n",
       "    <tr>\n",
       "      <th>66</th>\n",
       "      <td>L196</td>\n",
       "      <td>u0</td>\n",
       "      <td>m0</td>\n",
       "      <td>BIANCA</td>\n",
       "      <td>Not the hacking and gagging and spitting part...</td>\n",
       "    </tr>\n",
       "    <tr>\n",
       "      <th>65</th>\n",
       "      <td>L197</td>\n",
       "      <td>u2</td>\n",
       "      <td>m0</td>\n",
       "      <td>CAMERON</td>\n",
       "      <td>Okay... then how 'bout we try out some French...</td>\n",
       "    </tr>\n",
       "  </tbody>\n",
       "</table>\n",
       "</div>"
      ],
      "text/plain": [
       "   lineID characterID movieID character name  \\\n",
       "68   L194         u0      m0         BIANCA    \n",
       "67   L195         u2      m0        CAMERON    \n",
       "66   L196         u0      m0         BIANCA    \n",
       "65   L197         u2      m0        CAMERON    \n",
       "\n",
       "                                                 text  \n",
       "68   Can we make this quick?  Roxanne Korrine and ...  \n",
       "67   Well, I thought we'd start with pronunciation...  \n",
       "66   Not the hacking and gagging and spitting part...  \n",
       "65   Okay... then how 'bout we try out some French...  "
      ]
     },
     "execution_count": 43,
     "metadata": {},
     "output_type": "execute_result"
    }
   ],
   "source": [
    "df_text[df_text['lineID'].isin(['L194', 'L195', 'L196', 'L197'])].sort_values(by='lineID')"
   ]
  },
  {
   "cell_type": "markdown",
   "id": "504f3454",
   "metadata": {},
   "source": [
    "Lets predict probability of each of emotion for this dialog"
   ]
  },
  {
   "cell_type": "code",
   "execution_count": 44,
   "id": "3d93c787",
   "metadata": {
    "ExecuteTime": {
     "end_time": "2022-04-27T13:50:50.982951Z",
     "start_time": "2022-04-27T13:50:50.960592Z"
    }
   },
   "outputs": [],
   "source": [
    "test = df_text[df_text['lineID'].isin(['L194', 'L195', 'L196', 'L197'])].sort_values(by='lineID')"
   ]
  },
  {
   "cell_type": "code",
   "execution_count": 45,
   "id": "1626c1ed",
   "metadata": {
    "ExecuteTime": {
     "end_time": "2022-04-27T13:50:50.986533Z",
     "start_time": "2022-04-27T13:50:50.984056Z"
    }
   },
   "outputs": [
    {
     "name": "stdout",
     "output_type": "stream",
     "text": [
      " Can we make this quick?  Roxanne Korrine and Andrew Barrett are having an incredibly horrendous public break- up on the quad.  Again.\n",
      " Well, I thought we'd start with pronunciation, if that's okay with you.\n",
      " Not the hacking and gagging and spitting part.  Please.\n",
      " Okay... then how 'bout we try out some French cuisine.  Saturday?  Night?\n"
     ]
    }
   ],
   "source": [
    "for x in list(test['text']):\n",
    "    print(x)"
   ]
  },
  {
   "cell_type": "code",
   "execution_count": 46,
   "id": "7b1b6868",
   "metadata": {
    "ExecuteTime": {
     "end_time": "2022-04-27T13:50:50.999004Z",
     "start_time": "2022-04-27T13:50:50.987372Z"
    }
   },
   "outputs": [
    {
     "data": {
      "text/plain": [
       "array([[0.7 , 0.3 ],\n",
       "       [0.99, 0.01],\n",
       "       [0.9 , 0.1 ],\n",
       "       [0.79, 0.21]])"
      ]
     },
     "execution_count": 46,
     "metadata": {},
     "output_type": "execute_result"
    }
   ],
   "source": [
    "models['anger'].predict_proba(list(test['text']))"
   ]
  },
  {
   "cell_type": "code",
   "execution_count": 47,
   "id": "bd1e5226",
   "metadata": {
    "ExecuteTime": {
     "end_time": "2022-04-27T13:50:51.010926Z",
     "start_time": "2022-04-27T13:50:51.000069Z"
    }
   },
   "outputs": [
    {
     "data": {
      "text/plain": [
       "array([[0.9 , 0.1 ],\n",
       "       [0.72, 0.28],\n",
       "       [0.95, 0.05],\n",
       "       [0.71, 0.29]])"
      ]
     },
     "execution_count": 47,
     "metadata": {},
     "output_type": "execute_result"
    }
   ],
   "source": [
    "models['fear'].predict_proba(list(test['text']))"
   ]
  },
  {
   "cell_type": "code",
   "execution_count": 48,
   "id": "9c6a5fc6",
   "metadata": {
    "ExecuteTime": {
     "end_time": "2022-04-27T13:50:51.022613Z",
     "start_time": "2022-04-27T13:50:51.011802Z"
    }
   },
   "outputs": [
    {
     "data": {
      "text/plain": [
       "array([[0.65, 0.35],\n",
       "       [0.62, 0.38],\n",
       "       [0.64, 0.36],\n",
       "       [0.97, 0.03]])"
      ]
     },
     "execution_count": 48,
     "metadata": {},
     "output_type": "execute_result"
    }
   ],
   "source": [
    "models['joy'].predict_proba(list(test['text']))"
   ]
  },
  {
   "cell_type": "code",
   "execution_count": 49,
   "id": "7d859d27",
   "metadata": {
    "ExecuteTime": {
     "end_time": "2022-04-27T13:50:51.034079Z",
     "start_time": "2022-04-27T13:50:51.023503Z"
    }
   },
   "outputs": [
    {
     "data": {
      "text/plain": [
       "array([[0.53, 0.47],\n",
       "       [0.77, 0.23],\n",
       "       [0.86, 0.14],\n",
       "       [0.82, 0.18]])"
      ]
     },
     "execution_count": 49,
     "metadata": {},
     "output_type": "execute_result"
    }
   ],
   "source": [
    "models['sadness'].predict_proba(list(test['text']))"
   ]
  },
  {
   "cell_type": "code",
   "execution_count": 50,
   "id": "bfdc60c0",
   "metadata": {
    "ExecuteTime": {
     "end_time": "2022-04-27T13:50:51.045894Z",
     "start_time": "2022-04-27T13:50:51.035298Z"
    }
   },
   "outputs": [
    {
     "data": {
      "text/plain": [
       "array([0.47, 0.23, 0.14, 0.18])"
      ]
     },
     "execution_count": 50,
     "metadata": {},
     "output_type": "execute_result"
    }
   ],
   "source": [
    "models['sadness'].predict_proba(list(test['text']))[:,1]"
   ]
  },
  {
   "cell_type": "markdown",
   "id": "fa3002c8",
   "metadata": {},
   "source": [
    "# Predictions\n",
    "\n",
    "Lets predict probability for each emotion for each text line. I think we will lower the threshold, so we can actually find more emotions."
   ]
  },
  {
   "cell_type": "code",
   "execution_count": 51,
   "id": "9e1008d3",
   "metadata": {
    "ExecuteTime": {
     "end_time": "2022-04-27T13:50:51.087866Z",
     "start_time": "2022-04-27T13:50:51.047106Z"
    }
   },
   "outputs": [],
   "source": [
    "df_text = df_text[df_text['text'].notna()]"
   ]
  },
  {
   "cell_type": "code",
   "execution_count": 52,
   "id": "bd5e4066",
   "metadata": {
    "ExecuteTime": {
     "end_time": "2022-04-27T13:50:51.100605Z",
     "start_time": "2022-04-27T13:50:51.088892Z"
    }
   },
   "outputs": [
    {
     "data": {
      "text/html": [
       "<div>\n",
       "<style scoped>\n",
       "    .dataframe tbody tr th:only-of-type {\n",
       "        vertical-align: middle;\n",
       "    }\n",
       "\n",
       "    .dataframe tbody tr th {\n",
       "        vertical-align: top;\n",
       "    }\n",
       "\n",
       "    .dataframe thead th {\n",
       "        text-align: right;\n",
       "    }\n",
       "</style>\n",
       "<table border=\"1\" class=\"dataframe\">\n",
       "  <thead>\n",
       "    <tr style=\"text-align: right;\">\n",
       "      <th></th>\n",
       "      <th>lineID</th>\n",
       "      <th>characterID</th>\n",
       "      <th>movieID</th>\n",
       "      <th>character name</th>\n",
       "      <th>text</th>\n",
       "    </tr>\n",
       "  </thead>\n",
       "  <tbody>\n",
       "    <tr>\n",
       "      <th>133958</th>\n",
       "      <td>L67868</td>\n",
       "      <td>u3884</td>\n",
       "      <td>m257</td>\n",
       "      <td>NICK</td>\n",
       "      <td>Do you remember his name?</td>\n",
       "    </tr>\n",
       "    <tr>\n",
       "      <th>166761</th>\n",
       "      <td>L160470</td>\n",
       "      <td>u4812</td>\n",
       "      <td>m320</td>\n",
       "      <td>VINCE</td>\n",
       "      <td>Get 'em! For Christ sake, get 'em!</td>\n",
       "    </tr>\n",
       "    <tr>\n",
       "      <th>131427</th>\n",
       "      <td>L53800</td>\n",
       "      <td>u3803</td>\n",
       "      <td>m251</td>\n",
       "      <td>DOUG</td>\n",
       "      <td>Well, I want them to put down a floor and a w...</td>\n",
       "    </tr>\n",
       "    <tr>\n",
       "      <th>99979</th>\n",
       "      <td>L536709</td>\n",
       "      <td>u2980</td>\n",
       "      <td>m195</td>\n",
       "      <td>PICARD</td>\n",
       "      <td>There are days.</td>\n",
       "    </tr>\n",
       "    <tr>\n",
       "      <th>198260</th>\n",
       "      <td>L275960</td>\n",
       "      <td>u5820</td>\n",
       "      <td>m385</td>\n",
       "      <td>TREVOR</td>\n",
       "      <td>But... I thought...</td>\n",
       "    </tr>\n",
       "  </tbody>\n",
       "</table>\n",
       "</div>"
      ],
      "text/plain": [
       "         lineID characterID movieID character name  \\\n",
       "133958   L67868      u3884    m257           NICK    \n",
       "166761  L160470      u4812    m320          VINCE    \n",
       "131427   L53800      u3803    m251           DOUG    \n",
       "99979   L536709      u2980    m195         PICARD    \n",
       "198260  L275960      u5820    m385         TREVOR    \n",
       "\n",
       "                                                     text  \n",
       "133958                          Do you remember his name?  \n",
       "166761                 Get 'em! For Christ sake, get 'em!  \n",
       "131427   Well, I want them to put down a floor and a w...  \n",
       "99979                                     There are days.  \n",
       "198260                                But... I thought...  "
      ]
     },
     "execution_count": 52,
     "metadata": {},
     "output_type": "execute_result"
    }
   ],
   "source": [
    "df_text.sample(5)"
   ]
  },
  {
   "cell_type": "code",
   "execution_count": 53,
   "id": "ca54e13d",
   "metadata": {
    "ExecuteTime": {
     "end_time": "2022-04-27T13:55:14.314456Z",
     "start_time": "2022-04-27T13:50:51.101540Z"
    }
   },
   "outputs": [],
   "source": [
    "df_text['anger_proba'] = models['anger'].predict_proba(list(df_text['text']))[:,1]\n",
    "df_text['fear_proba'] = models['fear'].predict_proba(list(df_text['text']))[:,1]\n",
    "df_text['joy_proba'] = models['joy'].predict_proba(list(df_text['text']))[:,1]\n",
    "df_text['sadness_proba'] = models['sadness'].predict_proba(list(df_text['text']))[:,1]"
   ]
  },
  {
   "cell_type": "code",
   "execution_count": 54,
   "id": "80158465",
   "metadata": {
    "ExecuteTime": {
     "end_time": "2022-04-27T13:55:14.335498Z",
     "start_time": "2022-04-27T13:55:14.315598Z"
    }
   },
   "outputs": [
    {
     "data": {
      "text/html": [
       "<div>\n",
       "<style scoped>\n",
       "    .dataframe tbody tr th:only-of-type {\n",
       "        vertical-align: middle;\n",
       "    }\n",
       "\n",
       "    .dataframe tbody tr th {\n",
       "        vertical-align: top;\n",
       "    }\n",
       "\n",
       "    .dataframe thead th {\n",
       "        text-align: right;\n",
       "    }\n",
       "</style>\n",
       "<table border=\"1\" class=\"dataframe\">\n",
       "  <thead>\n",
       "    <tr style=\"text-align: right;\">\n",
       "      <th></th>\n",
       "      <th>lineID</th>\n",
       "      <th>characterID</th>\n",
       "      <th>movieID</th>\n",
       "      <th>character name</th>\n",
       "      <th>text</th>\n",
       "      <th>anger_proba</th>\n",
       "      <th>fear_proba</th>\n",
       "      <th>joy_proba</th>\n",
       "      <th>sadness_proba</th>\n",
       "    </tr>\n",
       "  </thead>\n",
       "  <tbody>\n",
       "    <tr>\n",
       "      <th>164489</th>\n",
       "      <td>L151226</td>\n",
       "      <td>u4732</td>\n",
       "      <td>m314</td>\n",
       "      <td>JENNIFER</td>\n",
       "      <td>Okay, just one more stop and you'll be all se...</td>\n",
       "      <td>0.13</td>\n",
       "      <td>0.33</td>\n",
       "      <td>0.15</td>\n",
       "      <td>0.14</td>\n",
       "    </tr>\n",
       "    <tr>\n",
       "      <th>172165</th>\n",
       "      <td>L179515</td>\n",
       "      <td>u4979</td>\n",
       "      <td>m331</td>\n",
       "      <td>JIM</td>\n",
       "      <td>So... what do you have to tell me?</td>\n",
       "      <td>0.24</td>\n",
       "      <td>0.14</td>\n",
       "      <td>0.05</td>\n",
       "      <td>0.16</td>\n",
       "    </tr>\n",
       "    <tr>\n",
       "      <th>293364</th>\n",
       "      <td>L635412</td>\n",
       "      <td>u8716</td>\n",
       "      <td>m591</td>\n",
       "      <td>SKINNY</td>\n",
       "      <td>Thank God.</td>\n",
       "      <td>0.36</td>\n",
       "      <td>0.11</td>\n",
       "      <td>0.74</td>\n",
       "      <td>0.17</td>\n",
       "    </tr>\n",
       "    <tr>\n",
       "      <th>8285</th>\n",
       "      <td>L35038</td>\n",
       "      <td>u297</td>\n",
       "      <td>m18</td>\n",
       "      <td>MATT</td>\n",
       "      <td>Can you imagine that guy? He was kissing her.</td>\n",
       "      <td>0.08</td>\n",
       "      <td>0.02</td>\n",
       "      <td>0.09</td>\n",
       "      <td>0.13</td>\n",
       "    </tr>\n",
       "    <tr>\n",
       "      <th>129009</th>\n",
       "      <td>L48177</td>\n",
       "      <td>u3762</td>\n",
       "      <td>m247</td>\n",
       "      <td>SOLDIER</td>\n",
       "      <td>You got a chance in that boat -- by morning y...</td>\n",
       "      <td>0.05</td>\n",
       "      <td>0.22</td>\n",
       "      <td>0.53</td>\n",
       "      <td>0.25</td>\n",
       "    </tr>\n",
       "    <tr>\n",
       "      <th>120757</th>\n",
       "      <td>L14436</td>\n",
       "      <td>u3557</td>\n",
       "      <td>m234</td>\n",
       "      <td>MOTHER MIRIAM</td>\n",
       "      <td>Because I am a moral person.</td>\n",
       "      <td>0.09</td>\n",
       "      <td>0.05</td>\n",
       "      <td>0.09</td>\n",
       "      <td>0.11</td>\n",
       "    </tr>\n",
       "    <tr>\n",
       "      <th>37964</th>\n",
       "      <td>L250837</td>\n",
       "      <td>u1169</td>\n",
       "      <td>m77</td>\n",
       "      <td>BEN</td>\n",
       "      <td>Ahh -- thank you.</td>\n",
       "      <td>0.09</td>\n",
       "      <td>0.01</td>\n",
       "      <td>0.72</td>\n",
       "      <td>0.19</td>\n",
       "    </tr>\n",
       "    <tr>\n",
       "      <th>59774</th>\n",
       "      <td>L339648</td>\n",
       "      <td>u1748</td>\n",
       "      <td>m115</td>\n",
       "      <td>MAURICE</td>\n",
       "      <td>Walk with me?</td>\n",
       "      <td>0.06</td>\n",
       "      <td>0.04</td>\n",
       "      <td>0.04</td>\n",
       "      <td>0.11</td>\n",
       "    </tr>\n",
       "    <tr>\n",
       "      <th>31629</th>\n",
       "      <td>L227764</td>\n",
       "      <td>u1003</td>\n",
       "      <td>m65</td>\n",
       "      <td>RICHARD</td>\n",
       "      <td>In the room. Were you serious, or were you ju...</td>\n",
       "      <td>0.16</td>\n",
       "      <td>0.23</td>\n",
       "      <td>0.45</td>\n",
       "      <td>0.17</td>\n",
       "    </tr>\n",
       "    <tr>\n",
       "      <th>265037</th>\n",
       "      <td>L544399</td>\n",
       "      <td>u7832</td>\n",
       "      <td>m530</td>\n",
       "      <td>DELADIER</td>\n",
       "      <td>He requested a combat assignment. There's alw...</td>\n",
       "      <td>0.30</td>\n",
       "      <td>0.19</td>\n",
       "      <td>0.35</td>\n",
       "      <td>0.46</td>\n",
       "    </tr>\n",
       "  </tbody>\n",
       "</table>\n",
       "</div>"
      ],
      "text/plain": [
       "         lineID characterID movieID   character name  \\\n",
       "164489  L151226      u4732    m314         JENNIFER    \n",
       "172165  L179515      u4979    m331              JIM    \n",
       "293364  L635412      u8716    m591           SKINNY    \n",
       "8285     L35038       u297     m18             MATT    \n",
       "129009   L48177      u3762    m247          SOLDIER    \n",
       "120757   L14436      u3557    m234    MOTHER MIRIAM    \n",
       "37964   L250837      u1169     m77              BEN    \n",
       "59774   L339648      u1748    m115          MAURICE    \n",
       "31629   L227764      u1003     m65          RICHARD    \n",
       "265037  L544399      u7832    m530         DELADIER    \n",
       "\n",
       "                                                     text  anger_proba  \\\n",
       "164489   Okay, just one more stop and you'll be all se...         0.13   \n",
       "172165                 So... what do you have to tell me?         0.24   \n",
       "293364                                         Thank God.         0.36   \n",
       "8285        Can you imagine that guy? He was kissing her.         0.08   \n",
       "129009   You got a chance in that boat -- by morning y...         0.05   \n",
       "120757                       Because I am a moral person.         0.09   \n",
       "37964                                   Ahh -- thank you.         0.09   \n",
       "59774                                       Walk with me?         0.06   \n",
       "31629    In the room. Were you serious, or were you ju...         0.16   \n",
       "265037   He requested a combat assignment. There's alw...         0.30   \n",
       "\n",
       "        fear_proba  joy_proba  sadness_proba  \n",
       "164489        0.33       0.15           0.14  \n",
       "172165        0.14       0.05           0.16  \n",
       "293364        0.11       0.74           0.17  \n",
       "8285          0.02       0.09           0.13  \n",
       "129009        0.22       0.53           0.25  \n",
       "120757        0.05       0.09           0.11  \n",
       "37964         0.01       0.72           0.19  \n",
       "59774         0.04       0.04           0.11  \n",
       "31629         0.23       0.45           0.17  \n",
       "265037        0.19       0.35           0.46  "
      ]
     },
     "execution_count": 54,
     "metadata": {},
     "output_type": "execute_result"
    }
   ],
   "source": [
    "df_text.sample(10)"
   ]
  },
  {
   "cell_type": "code",
   "execution_count": 55,
   "id": "7766993a",
   "metadata": {
    "ExecuteTime": {
     "end_time": "2022-04-27T13:55:14.344356Z",
     "start_time": "2022-04-27T13:55:14.336701Z"
    }
   },
   "outputs": [],
   "source": [
    "df_text['anger'] = np.where(df_text['anger_proba'] > 0.4, 1, 0)\n",
    "df_text['fear'] = np.where(df_text['fear_proba'] > 0.4, 1, 0)\n",
    "df_text['joy'] = np.where(df_text['joy_proba'] > 0.4, 1, 0)\n",
    "df_text['sadness'] = np.where(df_text['sadness_proba'] > 0.5, 1, 0)"
   ]
  },
  {
   "cell_type": "code",
   "execution_count": 56,
   "id": "90a62ede",
   "metadata": {
    "ExecuteTime": {
     "end_time": "2022-04-27T13:55:14.362525Z",
     "start_time": "2022-04-27T13:55:14.345310Z"
    }
   },
   "outputs": [
    {
     "data": {
      "text/html": [
       "<div>\n",
       "<style scoped>\n",
       "    .dataframe tbody tr th:only-of-type {\n",
       "        vertical-align: middle;\n",
       "    }\n",
       "\n",
       "    .dataframe tbody tr th {\n",
       "        vertical-align: top;\n",
       "    }\n",
       "\n",
       "    .dataframe thead th {\n",
       "        text-align: right;\n",
       "    }\n",
       "</style>\n",
       "<table border=\"1\" class=\"dataframe\">\n",
       "  <thead>\n",
       "    <tr style=\"text-align: right;\">\n",
       "      <th></th>\n",
       "      <th>lineID</th>\n",
       "      <th>characterID</th>\n",
       "      <th>movieID</th>\n",
       "      <th>character name</th>\n",
       "      <th>text</th>\n",
       "      <th>anger_proba</th>\n",
       "      <th>fear_proba</th>\n",
       "      <th>joy_proba</th>\n",
       "      <th>sadness_proba</th>\n",
       "      <th>anger</th>\n",
       "      <th>fear</th>\n",
       "      <th>joy</th>\n",
       "      <th>sadness</th>\n",
       "    </tr>\n",
       "  </thead>\n",
       "  <tbody>\n",
       "    <tr>\n",
       "      <th>175745</th>\n",
       "      <td>L189625</td>\n",
       "      <td>u5078</td>\n",
       "      <td>m336</td>\n",
       "      <td>GEORGE</td>\n",
       "      <td>Why not?</td>\n",
       "      <td>0.01</td>\n",
       "      <td>0.04</td>\n",
       "      <td>0.04</td>\n",
       "      <td>0.11</td>\n",
       "      <td>0</td>\n",
       "      <td>0</td>\n",
       "      <td>0</td>\n",
       "      <td>0</td>\n",
       "    </tr>\n",
       "    <tr>\n",
       "      <th>232093</th>\n",
       "      <td>L417525</td>\n",
       "      <td>u6895</td>\n",
       "      <td>m461</td>\n",
       "      <td>WILL</td>\n",
       "      <td>I'm in.</td>\n",
       "      <td>0.01</td>\n",
       "      <td>0.04</td>\n",
       "      <td>0.04</td>\n",
       "      <td>0.11</td>\n",
       "      <td>0</td>\n",
       "      <td>0</td>\n",
       "      <td>0</td>\n",
       "      <td>0</td>\n",
       "    </tr>\n",
       "    <tr>\n",
       "      <th>274940</th>\n",
       "      <td>L573013</td>\n",
       "      <td>u8110</td>\n",
       "      <td>m550</td>\n",
       "      <td>ILSA</td>\n",
       "      <td>Goodnight.  See you home.</td>\n",
       "      <td>0.03</td>\n",
       "      <td>0.03</td>\n",
       "      <td>0.05</td>\n",
       "      <td>0.18</td>\n",
       "      <td>0</td>\n",
       "      <td>0</td>\n",
       "      <td>0</td>\n",
       "      <td>0</td>\n",
       "    </tr>\n",
       "    <tr>\n",
       "      <th>115119</th>\n",
       "      <td>L631067</td>\n",
       "      <td>u3388</td>\n",
       "      <td>m224</td>\n",
       "      <td>JERRY</td>\n",
       "      <td>Johnny, Johnny... let your Daddy and your Unc...</td>\n",
       "      <td>0.04</td>\n",
       "      <td>0.43</td>\n",
       "      <td>0.15</td>\n",
       "      <td>0.11</td>\n",
       "      <td>0</td>\n",
       "      <td>1</td>\n",
       "      <td>0</td>\n",
       "      <td>0</td>\n",
       "    </tr>\n",
       "    <tr>\n",
       "      <th>201394</th>\n",
       "      <td>L292063</td>\n",
       "      <td>u5931</td>\n",
       "      <td>m392</td>\n",
       "      <td>SEAMUS</td>\n",
       "      <td>I said nothing before, for fear you wouldn't ...</td>\n",
       "      <td>0.14</td>\n",
       "      <td>0.25</td>\n",
       "      <td>0.09</td>\n",
       "      <td>0.15</td>\n",
       "      <td>0</td>\n",
       "      <td>0</td>\n",
       "      <td>0</td>\n",
       "      <td>0</td>\n",
       "    </tr>\n",
       "  </tbody>\n",
       "</table>\n",
       "</div>"
      ],
      "text/plain": [
       "         lineID characterID movieID character name  \\\n",
       "175745  L189625      u5078    m336         GEORGE    \n",
       "232093  L417525      u6895    m461           WILL    \n",
       "274940  L573013      u8110    m550           ILSA    \n",
       "115119  L631067      u3388    m224          JERRY    \n",
       "201394  L292063      u5931    m392         SEAMUS    \n",
       "\n",
       "                                                     text  anger_proba  \\\n",
       "175745                                           Why not?         0.01   \n",
       "232093                                            I'm in.         0.01   \n",
       "274940                          Goodnight.  See you home.         0.03   \n",
       "115119   Johnny, Johnny... let your Daddy and your Unc...         0.04   \n",
       "201394   I said nothing before, for fear you wouldn't ...         0.14   \n",
       "\n",
       "        fear_proba  joy_proba  sadness_proba  anger  fear  joy  sadness  \n",
       "175745        0.04       0.04           0.11      0     0    0        0  \n",
       "232093        0.04       0.04           0.11      0     0    0        0  \n",
       "274940        0.03       0.05           0.18      0     0    0        0  \n",
       "115119        0.43       0.15           0.11      0     1    0        0  \n",
       "201394        0.25       0.09           0.15      0     0    0        0  "
      ]
     },
     "execution_count": 56,
     "metadata": {},
     "output_type": "execute_result"
    }
   ],
   "source": [
    "df_text.sample(5)"
   ]
  },
  {
   "cell_type": "code",
   "execution_count": 57,
   "id": "f9bd6dad",
   "metadata": {
    "ExecuteTime": {
     "end_time": "2022-04-27T13:55:14.368643Z",
     "start_time": "2022-04-27T13:55:14.363634Z"
    }
   },
   "outputs": [],
   "source": [
    "df_text['no_emotions'] = np.where((df_text['anger'] == 0) & (df_text['fear'] == 0) \\\n",
    "                                     & (df_text['joy'] == 0) & (df_text['sadness'] == 0), \n",
    "                                     1, 0)"
   ]
  },
  {
   "cell_type": "markdown",
   "id": "a296df18",
   "metadata": {},
   "source": [
    "## group by characters"
   ]
  },
  {
   "cell_type": "code",
   "execution_count": 58,
   "id": "abd6e040",
   "metadata": {
    "ExecuteTime": {
     "end_time": "2022-04-27T13:55:14.380961Z",
     "start_time": "2022-04-27T13:55:14.369557Z"
    }
   },
   "outputs": [],
   "source": [
    "df_conv = df_conv[df_conv['sequence'].notna()]"
   ]
  },
  {
   "cell_type": "code",
   "execution_count": 59,
   "id": "f390d92c",
   "metadata": {
    "ExecuteTime": {
     "end_time": "2022-04-27T13:55:14.387193Z",
     "start_time": "2022-04-27T13:55:14.382149Z"
    }
   },
   "outputs": [
    {
     "data": {
      "text/html": [
       "<div>\n",
       "<style scoped>\n",
       "    .dataframe tbody tr th:only-of-type {\n",
       "        vertical-align: middle;\n",
       "    }\n",
       "\n",
       "    .dataframe tbody tr th {\n",
       "        vertical-align: top;\n",
       "    }\n",
       "\n",
       "    .dataframe thead th {\n",
       "        text-align: right;\n",
       "    }\n",
       "</style>\n",
       "<table border=\"1\" class=\"dataframe\">\n",
       "  <thead>\n",
       "    <tr style=\"text-align: right;\">\n",
       "      <th></th>\n",
       "      <th>characterID_1</th>\n",
       "      <th>characterID_2</th>\n",
       "      <th>movieID</th>\n",
       "      <th>sequence</th>\n",
       "    </tr>\n",
       "  </thead>\n",
       "  <tbody>\n",
       "    <tr>\n",
       "      <th>0</th>\n",
       "      <td>u0</td>\n",
       "      <td>u2</td>\n",
       "      <td>m0</td>\n",
       "      <td>['L194', 'L195', 'L196', 'L197']</td>\n",
       "    </tr>\n",
       "    <tr>\n",
       "      <th>1</th>\n",
       "      <td>u0</td>\n",
       "      <td>u2</td>\n",
       "      <td>m0</td>\n",
       "      <td>['L198', 'L199']</td>\n",
       "    </tr>\n",
       "    <tr>\n",
       "      <th>2</th>\n",
       "      <td>u0</td>\n",
       "      <td>u2</td>\n",
       "      <td>m0</td>\n",
       "      <td>['L200', 'L201', 'L202', 'L203']</td>\n",
       "    </tr>\n",
       "    <tr>\n",
       "      <th>3</th>\n",
       "      <td>u0</td>\n",
       "      <td>u2</td>\n",
       "      <td>m0</td>\n",
       "      <td>['L204', 'L205', 'L206']</td>\n",
       "    </tr>\n",
       "    <tr>\n",
       "      <th>4</th>\n",
       "      <td>u0</td>\n",
       "      <td>u2</td>\n",
       "      <td>m0</td>\n",
       "      <td>['L207', 'L208']</td>\n",
       "    </tr>\n",
       "  </tbody>\n",
       "</table>\n",
       "</div>"
      ],
      "text/plain": [
       "  characterID_1 characterID_2 movieID                           sequence\n",
       "0           u0            u2      m0    ['L194', 'L195', 'L196', 'L197']\n",
       "1           u0            u2      m0                    ['L198', 'L199']\n",
       "2           u0            u2      m0    ['L200', 'L201', 'L202', 'L203']\n",
       "3           u0            u2      m0            ['L204', 'L205', 'L206']\n",
       "4           u0            u2      m0                    ['L207', 'L208']"
      ]
     },
     "execution_count": 59,
     "metadata": {},
     "output_type": "execute_result"
    }
   ],
   "source": [
    "df_conv.head()"
   ]
  },
  {
   "cell_type": "code",
   "execution_count": 60,
   "id": "917a2167",
   "metadata": {
    "ExecuteTime": {
     "end_time": "2022-04-27T13:55:14.390955Z",
     "start_time": "2022-04-27T13:55:14.388337Z"
    }
   },
   "outputs": [],
   "source": [
    "def clean_sequence(x):\n",
    "    x = re.sub(' ', '', x)\n",
    "    x = re.sub('\\'', '', x)\n",
    "    x = re.sub('\\[', '', x)\n",
    "    x = re.sub('\\]', '', x)\n",
    "    return x.split(',')"
   ]
  },
  {
   "cell_type": "code",
   "execution_count": 61,
   "id": "c82bb726",
   "metadata": {
    "ExecuteTime": {
     "end_time": "2022-04-27T13:55:14.774443Z",
     "start_time": "2022-04-27T13:55:14.392183Z"
    },
    "scrolled": true
   },
   "outputs": [],
   "source": [
    "df_conv['sequence'] = df_conv['sequence'].apply(lambda x: clean_sequence(x))"
   ]
  },
  {
   "cell_type": "code",
   "execution_count": 62,
   "id": "c14642eb",
   "metadata": {
    "ExecuteTime": {
     "end_time": "2022-04-27T13:55:14.855221Z",
     "start_time": "2022-04-27T13:55:14.775766Z"
    }
   },
   "outputs": [],
   "source": [
    "df_conv_exploded = df_conv.explode('sequence')"
   ]
  },
  {
   "cell_type": "code",
   "execution_count": 63,
   "id": "1178eb14",
   "metadata": {
    "ExecuteTime": {
     "end_time": "2022-04-27T13:55:14.861732Z",
     "start_time": "2022-04-27T13:55:14.856381Z"
    }
   },
   "outputs": [
    {
     "data": {
      "text/html": [
       "<div>\n",
       "<style scoped>\n",
       "    .dataframe tbody tr th:only-of-type {\n",
       "        vertical-align: middle;\n",
       "    }\n",
       "\n",
       "    .dataframe tbody tr th {\n",
       "        vertical-align: top;\n",
       "    }\n",
       "\n",
       "    .dataframe thead th {\n",
       "        text-align: right;\n",
       "    }\n",
       "</style>\n",
       "<table border=\"1\" class=\"dataframe\">\n",
       "  <thead>\n",
       "    <tr style=\"text-align: right;\">\n",
       "      <th></th>\n",
       "      <th>characterID_1</th>\n",
       "      <th>characterID_2</th>\n",
       "      <th>movieID</th>\n",
       "      <th>sequence</th>\n",
       "    </tr>\n",
       "  </thead>\n",
       "  <tbody>\n",
       "    <tr>\n",
       "      <th>0</th>\n",
       "      <td>u0</td>\n",
       "      <td>u2</td>\n",
       "      <td>m0</td>\n",
       "      <td>L194</td>\n",
       "    </tr>\n",
       "    <tr>\n",
       "      <th>0</th>\n",
       "      <td>u0</td>\n",
       "      <td>u2</td>\n",
       "      <td>m0</td>\n",
       "      <td>L195</td>\n",
       "    </tr>\n",
       "    <tr>\n",
       "      <th>0</th>\n",
       "      <td>u0</td>\n",
       "      <td>u2</td>\n",
       "      <td>m0</td>\n",
       "      <td>L196</td>\n",
       "    </tr>\n",
       "    <tr>\n",
       "      <th>0</th>\n",
       "      <td>u0</td>\n",
       "      <td>u2</td>\n",
       "      <td>m0</td>\n",
       "      <td>L197</td>\n",
       "    </tr>\n",
       "    <tr>\n",
       "      <th>1</th>\n",
       "      <td>u0</td>\n",
       "      <td>u2</td>\n",
       "      <td>m0</td>\n",
       "      <td>L198</td>\n",
       "    </tr>\n",
       "    <tr>\n",
       "      <th>...</th>\n",
       "      <td>...</td>\n",
       "      <td>...</td>\n",
       "      <td>...</td>\n",
       "      <td>...</td>\n",
       "    </tr>\n",
       "    <tr>\n",
       "      <th>83095</th>\n",
       "      <td>u9030</td>\n",
       "      <td>u9034</td>\n",
       "      <td>m616</td>\n",
       "      <td>L666371</td>\n",
       "    </tr>\n",
       "    <tr>\n",
       "      <th>83095</th>\n",
       "      <td>u9030</td>\n",
       "      <td>u9034</td>\n",
       "      <td>m616</td>\n",
       "      <td>L666372</td>\n",
       "    </tr>\n",
       "    <tr>\n",
       "      <th>83096</th>\n",
       "      <td>u9030</td>\n",
       "      <td>u9034</td>\n",
       "      <td>m616</td>\n",
       "      <td>L666520</td>\n",
       "    </tr>\n",
       "    <tr>\n",
       "      <th>83096</th>\n",
       "      <td>u9030</td>\n",
       "      <td>u9034</td>\n",
       "      <td>m616</td>\n",
       "      <td>L666521</td>\n",
       "    </tr>\n",
       "    <tr>\n",
       "      <th>83096</th>\n",
       "      <td>u9030</td>\n",
       "      <td>u9034</td>\n",
       "      <td>m616</td>\n",
       "      <td>L666522</td>\n",
       "    </tr>\n",
       "  </tbody>\n",
       "</table>\n",
       "<p>304713 rows × 4 columns</p>\n",
       "</div>"
      ],
      "text/plain": [
       "      characterID_1 characterID_2 movieID sequence\n",
       "0               u0            u2      m0      L194\n",
       "0               u0            u2      m0      L195\n",
       "0               u0            u2      m0      L196\n",
       "0               u0            u2      m0      L197\n",
       "1               u0            u2      m0      L198\n",
       "...             ...           ...     ...      ...\n",
       "83095        u9030         u9034    m616   L666371\n",
       "83095        u9030         u9034    m616   L666372\n",
       "83096        u9030         u9034    m616   L666520\n",
       "83096        u9030         u9034    m616   L666521\n",
       "83096        u9030         u9034    m616   L666522\n",
       "\n",
       "[304713 rows x 4 columns]"
      ]
     },
     "execution_count": 63,
     "metadata": {},
     "output_type": "execute_result"
    }
   ],
   "source": [
    "df_conv_exploded"
   ]
  },
  {
   "cell_type": "code",
   "execution_count": 64,
   "id": "4c8d1191",
   "metadata": {
    "ExecuteTime": {
     "end_time": "2022-04-27T13:55:15.035658Z",
     "start_time": "2022-04-27T13:55:14.862592Z"
    }
   },
   "outputs": [],
   "source": [
    "df_conv_exploded = pd.merge(df_conv_exploded,\n",
    "                            df_text,\n",
    "                            left_on='sequence',\n",
    "                            right_on='lineID',\n",
    "                            how='inner')"
   ]
  },
  {
   "cell_type": "code",
   "execution_count": 65,
   "id": "7dd21546",
   "metadata": {
    "ExecuteTime": {
     "end_time": "2022-04-27T13:55:15.047983Z",
     "start_time": "2022-04-27T13:55:15.036573Z"
    },
    "scrolled": false
   },
   "outputs": [
    {
     "data": {
      "text/html": [
       "<div>\n",
       "<style scoped>\n",
       "    .dataframe tbody tr th:only-of-type {\n",
       "        vertical-align: middle;\n",
       "    }\n",
       "\n",
       "    .dataframe tbody tr th {\n",
       "        vertical-align: top;\n",
       "    }\n",
       "\n",
       "    .dataframe thead th {\n",
       "        text-align: right;\n",
       "    }\n",
       "</style>\n",
       "<table border=\"1\" class=\"dataframe\">\n",
       "  <thead>\n",
       "    <tr style=\"text-align: right;\">\n",
       "      <th></th>\n",
       "      <th>characterID_1</th>\n",
       "      <th>characterID_2</th>\n",
       "      <th>movieID_x</th>\n",
       "      <th>sequence</th>\n",
       "      <th>lineID</th>\n",
       "      <th>characterID</th>\n",
       "      <th>movieID_y</th>\n",
       "      <th>character name</th>\n",
       "      <th>text</th>\n",
       "      <th>anger_proba</th>\n",
       "      <th>fear_proba</th>\n",
       "      <th>joy_proba</th>\n",
       "      <th>sadness_proba</th>\n",
       "      <th>anger</th>\n",
       "      <th>fear</th>\n",
       "      <th>joy</th>\n",
       "      <th>sadness</th>\n",
       "      <th>no_emotions</th>\n",
       "    </tr>\n",
       "  </thead>\n",
       "  <tbody>\n",
       "    <tr>\n",
       "      <th>0</th>\n",
       "      <td>u0</td>\n",
       "      <td>u2</td>\n",
       "      <td>m0</td>\n",
       "      <td>L194</td>\n",
       "      <td>L194</td>\n",
       "      <td>u0</td>\n",
       "      <td>m0</td>\n",
       "      <td>BIANCA</td>\n",
       "      <td>Can we make this quick?  Roxanne Korrine and ...</td>\n",
       "      <td>0.30</td>\n",
       "      <td>0.10</td>\n",
       "      <td>0.35</td>\n",
       "      <td>0.47</td>\n",
       "      <td>0</td>\n",
       "      <td>0</td>\n",
       "      <td>0</td>\n",
       "      <td>0</td>\n",
       "      <td>1</td>\n",
       "    </tr>\n",
       "    <tr>\n",
       "      <th>1</th>\n",
       "      <td>u0</td>\n",
       "      <td>u2</td>\n",
       "      <td>m0</td>\n",
       "      <td>L195</td>\n",
       "      <td>L195</td>\n",
       "      <td>u2</td>\n",
       "      <td>m0</td>\n",
       "      <td>CAMERON</td>\n",
       "      <td>Well, I thought we'd start with pronunciation...</td>\n",
       "      <td>0.01</td>\n",
       "      <td>0.28</td>\n",
       "      <td>0.38</td>\n",
       "      <td>0.23</td>\n",
       "      <td>0</td>\n",
       "      <td>0</td>\n",
       "      <td>0</td>\n",
       "      <td>0</td>\n",
       "      <td>1</td>\n",
       "    </tr>\n",
       "    <tr>\n",
       "      <th>2</th>\n",
       "      <td>u0</td>\n",
       "      <td>u2</td>\n",
       "      <td>m0</td>\n",
       "      <td>L196</td>\n",
       "      <td>L196</td>\n",
       "      <td>u0</td>\n",
       "      <td>m0</td>\n",
       "      <td>BIANCA</td>\n",
       "      <td>Not the hacking and gagging and spitting part...</td>\n",
       "      <td>0.10</td>\n",
       "      <td>0.05</td>\n",
       "      <td>0.36</td>\n",
       "      <td>0.14</td>\n",
       "      <td>0</td>\n",
       "      <td>0</td>\n",
       "      <td>0</td>\n",
       "      <td>0</td>\n",
       "      <td>1</td>\n",
       "    </tr>\n",
       "    <tr>\n",
       "      <th>3</th>\n",
       "      <td>u0</td>\n",
       "      <td>u2</td>\n",
       "      <td>m0</td>\n",
       "      <td>L197</td>\n",
       "      <td>L197</td>\n",
       "      <td>u2</td>\n",
       "      <td>m0</td>\n",
       "      <td>CAMERON</td>\n",
       "      <td>Okay... then how 'bout we try out some French...</td>\n",
       "      <td>0.21</td>\n",
       "      <td>0.29</td>\n",
       "      <td>0.03</td>\n",
       "      <td>0.18</td>\n",
       "      <td>0</td>\n",
       "      <td>0</td>\n",
       "      <td>0</td>\n",
       "      <td>0</td>\n",
       "      <td>1</td>\n",
       "    </tr>\n",
       "    <tr>\n",
       "      <th>4</th>\n",
       "      <td>u0</td>\n",
       "      <td>u2</td>\n",
       "      <td>m0</td>\n",
       "      <td>L198</td>\n",
       "      <td>L198</td>\n",
       "      <td>u0</td>\n",
       "      <td>m0</td>\n",
       "      <td>BIANCA</td>\n",
       "      <td>You're asking me out.  That's so cute. What's...</td>\n",
       "      <td>0.08</td>\n",
       "      <td>0.11</td>\n",
       "      <td>0.43</td>\n",
       "      <td>0.12</td>\n",
       "      <td>0</td>\n",
       "      <td>0</td>\n",
       "      <td>1</td>\n",
       "      <td>0</td>\n",
       "      <td>0</td>\n",
       "    </tr>\n",
       "    <tr>\n",
       "      <th>...</th>\n",
       "      <td>...</td>\n",
       "      <td>...</td>\n",
       "      <td>...</td>\n",
       "      <td>...</td>\n",
       "      <td>...</td>\n",
       "      <td>...</td>\n",
       "      <td>...</td>\n",
       "      <td>...</td>\n",
       "      <td>...</td>\n",
       "      <td>...</td>\n",
       "      <td>...</td>\n",
       "      <td>...</td>\n",
       "      <td>...</td>\n",
       "      <td>...</td>\n",
       "      <td>...</td>\n",
       "      <td>...</td>\n",
       "      <td>...</td>\n",
       "      <td>...</td>\n",
       "    </tr>\n",
       "    <tr>\n",
       "      <th>304708</th>\n",
       "      <td>u9030</td>\n",
       "      <td>u9034</td>\n",
       "      <td>m616</td>\n",
       "      <td>L666371</td>\n",
       "      <td>L666371</td>\n",
       "      <td>u9030</td>\n",
       "      <td>m616</td>\n",
       "      <td>DURNFORD</td>\n",
       "      <td>Lord Chelmsford seems to want me to stay back...</td>\n",
       "      <td>0.23</td>\n",
       "      <td>0.49</td>\n",
       "      <td>0.09</td>\n",
       "      <td>0.40</td>\n",
       "      <td>0</td>\n",
       "      <td>1</td>\n",
       "      <td>0</td>\n",
       "      <td>0</td>\n",
       "      <td>0</td>\n",
       "    </tr>\n",
       "    <tr>\n",
       "      <th>304709</th>\n",
       "      <td>u9030</td>\n",
       "      <td>u9034</td>\n",
       "      <td>m616</td>\n",
       "      <td>L666372</td>\n",
       "      <td>L666372</td>\n",
       "      <td>u9034</td>\n",
       "      <td>m616</td>\n",
       "      <td>VEREKER</td>\n",
       "      <td>I think Chelmsford wants a good man on the bo...</td>\n",
       "      <td>0.46</td>\n",
       "      <td>0.53</td>\n",
       "      <td>0.16</td>\n",
       "      <td>0.17</td>\n",
       "      <td>1</td>\n",
       "      <td>1</td>\n",
       "      <td>0</td>\n",
       "      <td>0</td>\n",
       "      <td>0</td>\n",
       "    </tr>\n",
       "    <tr>\n",
       "      <th>304710</th>\n",
       "      <td>u9030</td>\n",
       "      <td>u9034</td>\n",
       "      <td>m616</td>\n",
       "      <td>L666520</td>\n",
       "      <td>L666520</td>\n",
       "      <td>u9034</td>\n",
       "      <td>m616</td>\n",
       "      <td>VEREKER</td>\n",
       "      <td>Well I assure you, Sir, I have no desire to c...</td>\n",
       "      <td>0.12</td>\n",
       "      <td>0.07</td>\n",
       "      <td>0.09</td>\n",
       "      <td>0.14</td>\n",
       "      <td>0</td>\n",
       "      <td>0</td>\n",
       "      <td>0</td>\n",
       "      <td>0</td>\n",
       "      <td>1</td>\n",
       "    </tr>\n",
       "    <tr>\n",
       "      <th>304711</th>\n",
       "      <td>u9030</td>\n",
       "      <td>u9034</td>\n",
       "      <td>m616</td>\n",
       "      <td>L666521</td>\n",
       "      <td>L666521</td>\n",
       "      <td>u9030</td>\n",
       "      <td>m616</td>\n",
       "      <td>DURNFORD</td>\n",
       "      <td>And I assure you, you do not In fact I'd be o...</td>\n",
       "      <td>0.22</td>\n",
       "      <td>0.13</td>\n",
       "      <td>0.30</td>\n",
       "      <td>0.34</td>\n",
       "      <td>0</td>\n",
       "      <td>0</td>\n",
       "      <td>0</td>\n",
       "      <td>0</td>\n",
       "      <td>1</td>\n",
       "    </tr>\n",
       "    <tr>\n",
       "      <th>304712</th>\n",
       "      <td>u9030</td>\n",
       "      <td>u9034</td>\n",
       "      <td>m616</td>\n",
       "      <td>L666522</td>\n",
       "      <td>L666522</td>\n",
       "      <td>u9034</td>\n",
       "      <td>m616</td>\n",
       "      <td>VEREKER</td>\n",
       "      <td>So far only their scouts. But we have had rep...</td>\n",
       "      <td>0.11</td>\n",
       "      <td>0.04</td>\n",
       "      <td>0.10</td>\n",
       "      <td>0.15</td>\n",
       "      <td>0</td>\n",
       "      <td>0</td>\n",
       "      <td>0</td>\n",
       "      <td>0</td>\n",
       "      <td>1</td>\n",
       "    </tr>\n",
       "  </tbody>\n",
       "</table>\n",
       "<p>304713 rows × 18 columns</p>\n",
       "</div>"
      ],
      "text/plain": [
       "       characterID_1 characterID_2 movieID_x sequence   lineID characterID  \\\n",
       "0                u0            u2        m0      L194     L194         u0    \n",
       "1                u0            u2        m0      L195     L195         u2    \n",
       "2                u0            u2        m0      L196     L196         u0    \n",
       "3                u0            u2        m0      L197     L197         u2    \n",
       "4                u0            u2        m0      L198     L198         u0    \n",
       "...              ...           ...       ...      ...      ...         ...   \n",
       "304708        u9030         u9034      m616   L666371  L666371      u9030    \n",
       "304709        u9030         u9034      m616   L666372  L666372      u9034    \n",
       "304710        u9030         u9034      m616   L666520  L666520      u9034    \n",
       "304711        u9030         u9034      m616   L666521  L666521      u9030    \n",
       "304712        u9030         u9034      m616   L666522  L666522      u9034    \n",
       "\n",
       "       movieID_y character name  \\\n",
       "0            m0         BIANCA    \n",
       "1            m0        CAMERON    \n",
       "2            m0         BIANCA    \n",
       "3            m0        CAMERON    \n",
       "4            m0         BIANCA    \n",
       "...          ...            ...   \n",
       "304708     m616       DURNFORD    \n",
       "304709     m616        VEREKER    \n",
       "304710     m616        VEREKER    \n",
       "304711     m616       DURNFORD    \n",
       "304712     m616        VEREKER    \n",
       "\n",
       "                                                     text  anger_proba  \\\n",
       "0        Can we make this quick?  Roxanne Korrine and ...         0.30   \n",
       "1        Well, I thought we'd start with pronunciation...         0.01   \n",
       "2        Not the hacking and gagging and spitting part...         0.10   \n",
       "3        Okay... then how 'bout we try out some French...         0.21   \n",
       "4        You're asking me out.  That's so cute. What's...         0.08   \n",
       "...                                                   ...          ...   \n",
       "304708   Lord Chelmsford seems to want me to stay back...         0.23   \n",
       "304709   I think Chelmsford wants a good man on the bo...         0.46   \n",
       "304710   Well I assure you, Sir, I have no desire to c...         0.12   \n",
       "304711   And I assure you, you do not In fact I'd be o...         0.22   \n",
       "304712   So far only their scouts. But we have had rep...         0.11   \n",
       "\n",
       "        fear_proba  joy_proba  sadness_proba  anger  fear  joy  sadness  \\\n",
       "0             0.10       0.35           0.47      0     0    0        0   \n",
       "1             0.28       0.38           0.23      0     0    0        0   \n",
       "2             0.05       0.36           0.14      0     0    0        0   \n",
       "3             0.29       0.03           0.18      0     0    0        0   \n",
       "4             0.11       0.43           0.12      0     0    1        0   \n",
       "...            ...        ...            ...    ...   ...  ...      ...   \n",
       "304708        0.49       0.09           0.40      0     1    0        0   \n",
       "304709        0.53       0.16           0.17      1     1    0        0   \n",
       "304710        0.07       0.09           0.14      0     0    0        0   \n",
       "304711        0.13       0.30           0.34      0     0    0        0   \n",
       "304712        0.04       0.10           0.15      0     0    0        0   \n",
       "\n",
       "        no_emotions  \n",
       "0                 1  \n",
       "1                 1  \n",
       "2                 1  \n",
       "3                 1  \n",
       "4                 0  \n",
       "...             ...  \n",
       "304708            0  \n",
       "304709            0  \n",
       "304710            1  \n",
       "304711            1  \n",
       "304712            1  \n",
       "\n",
       "[304713 rows x 18 columns]"
      ]
     },
     "execution_count": 65,
     "metadata": {},
     "output_type": "execute_result"
    }
   ],
   "source": [
    "df_conv_exploded"
   ]
  },
  {
   "cell_type": "code",
   "execution_count": 66,
   "id": "0fd690e5",
   "metadata": {
    "ExecuteTime": {
     "end_time": "2022-04-27T13:55:15.196860Z",
     "start_time": "2022-04-27T13:55:15.049252Z"
    }
   },
   "outputs": [],
   "source": [
    "df_conv_exploded['lineID'] = [int(x[1:]) for x in df_conv_exploded['lineID']]"
   ]
  },
  {
   "cell_type": "code",
   "execution_count": 67,
   "id": "46dba0bb",
   "metadata": {
    "ExecuteTime": {
     "end_time": "2022-04-27T13:55:15.330590Z",
     "start_time": "2022-04-27T13:55:15.198041Z"
    },
    "scrolled": true
   },
   "outputs": [],
   "source": [
    "df_conv_exploded = df_conv_exploded.sort_values(by=['characterID_1', 'characterID_2', 'lineID'])"
   ]
  },
  {
   "cell_type": "code",
   "execution_count": null,
   "id": "3771c7e2",
   "metadata": {},
   "outputs": [],
   "source": []
  },
  {
   "cell_type": "code",
   "execution_count": 68,
   "id": "a760b60b",
   "metadata": {
    "ExecuteTime": {
     "end_time": "2022-04-27T13:55:15.667861Z",
     "start_time": "2022-04-27T13:55:15.331607Z"
    }
   },
   "outputs": [
    {
     "data": {
      "text/html": [
       "<div>\n",
       "<style scoped>\n",
       "    .dataframe tbody tr th:only-of-type {\n",
       "        vertical-align: middle;\n",
       "    }\n",
       "\n",
       "    .dataframe tbody tr th {\n",
       "        vertical-align: top;\n",
       "    }\n",
       "\n",
       "    .dataframe thead th {\n",
       "        text-align: right;\n",
       "    }\n",
       "</style>\n",
       "<table border=\"1\" class=\"dataframe\">\n",
       "  <thead>\n",
       "    <tr style=\"text-align: right;\">\n",
       "      <th></th>\n",
       "      <th></th>\n",
       "      <th></th>\n",
       "      <th>anger_proba</th>\n",
       "      <th>fear_proba</th>\n",
       "      <th>joy_proba</th>\n",
       "      <th>sadness_proba</th>\n",
       "    </tr>\n",
       "    <tr>\n",
       "      <th>characterID_1</th>\n",
       "      <th>characterID_2</th>\n",
       "      <th>movieID_x</th>\n",
       "      <th></th>\n",
       "      <th></th>\n",
       "      <th></th>\n",
       "      <th></th>\n",
       "    </tr>\n",
       "  </thead>\n",
       "  <tbody>\n",
       "    <tr>\n",
       "      <th rowspan=\"5\" valign=\"top\">u0</th>\n",
       "      <th>u11</th>\n",
       "      <th>m0</th>\n",
       "      <td>[0.19, 0.01, 0.09, 0.17, 0.11, 0.19, 0.08, 0.0...</td>\n",
       "      <td>[0.43, 0.18, 0.06, 0.32, 0.09, 0.29, 0.08, 0.0...</td>\n",
       "      <td>[0.27, 0.16, 0.09, 0.16, 0.04, 0.07, 0.11, 0.0...</td>\n",
       "      <td>[0.23, 0.32, 0.36, 0.18, 0.11, 0.11, 0.16, 0.1...</td>\n",
       "    </tr>\n",
       "    <tr>\n",
       "      <th>u2</th>\n",
       "      <th>m0</th>\n",
       "      <td>[0.3, 0.01, 0.1, 0.21, 0.08, 0.06, 0.14, 0.01,...</td>\n",
       "      <td>[0.1, 0.28, 0.05, 0.29, 0.11, 0.04, 0.07, 0.04...</td>\n",
       "      <td>[0.35, 0.38, 0.36, 0.03, 0.43, 0.04, 0.04, 0.0...</td>\n",
       "      <td>[0.47, 0.23, 0.14, 0.18, 0.12, 0.11, 0.11, 0.1...</td>\n",
       "    </tr>\n",
       "    <tr>\n",
       "      <th>u3</th>\n",
       "      <th>m0</th>\n",
       "      <td>[0.35, 0.01, 0.22, 0.03, 0.01, 0.01, 0.01, 0.3...</td>\n",
       "      <td>[0.19, 0.04, 0.34, 0.02, 0.04, 0.04, 0.1, 0.27...</td>\n",
       "      <td>[0.31, 0.04, 0.13, 0.13, 0.04, 0.04, 0.51, 0.1...</td>\n",
       "      <td>[0.14, 0.11, 0.18, 0.3, 0.11, 0.11, 0.12, 0.17...</td>\n",
       "    </tr>\n",
       "    <tr>\n",
       "      <th>u4</th>\n",
       "      <th>m0</th>\n",
       "      <td>[0.01, 0.01, 0.08, 0.05, 0.17, 0.01, 0.19, 0.0...</td>\n",
       "      <td>[0.04, 0.04, 0.11, 0.14, 0.37, 0.04, 0.1, 0.04...</td>\n",
       "      <td>[0.04, 0.06, 0.18, 0.05, 0.4, 0.04, 0.11, 0.04...</td>\n",
       "      <td>[0.11, 0.11, 0.3, 0.14, 0.38, 0.11, 0.4, 0.11,...</td>\n",
       "    </tr>\n",
       "    <tr>\n",
       "      <th>u5</th>\n",
       "      <th>m0</th>\n",
       "      <td>[0.01, 0.11, 0.24, 0.07, 0.32, 0.12, 0.25, 0.0...</td>\n",
       "      <td>[0.04, 0.09, 0.28, 0.0, 0.42, 0.06, 0.53, 0.36...</td>\n",
       "      <td>[0.04, 0.04, 0.14, 0.12, 0.21, 0.35, 0.16, 0.0...</td>\n",
       "      <td>[0.11, 0.11, 0.29, 0.58, 0.15, 0.23, 0.24, 0.1...</td>\n",
       "    </tr>\n",
       "    <tr>\n",
       "      <th>...</th>\n",
       "      <th>...</th>\n",
       "      <th>...</th>\n",
       "      <td>...</td>\n",
       "      <td>...</td>\n",
       "      <td>...</td>\n",
       "      <td>...</td>\n",
       "    </tr>\n",
       "    <tr>\n",
       "      <th>u997</th>\n",
       "      <th>u998</th>\n",
       "      <th>m65</th>\n",
       "      <td>[0.01, 0.11, 0.01, 0.24, 0.03, 0.29, 0.4, 0.12...</td>\n",
       "      <td>[0.04, 0.32, 0.14, 0.47, 0.07, 0.19, 0.17, 0.2...</td>\n",
       "      <td>[0.04, 0.15, 0.04, 0.04, 0.16, 0.23, 0.45, 0.2...</td>\n",
       "      <td>[0.22, 0.45, 0.11, 0.24, 0.27, 0.33, 0.36, 0.1...</td>\n",
       "    </tr>\n",
       "    <tr>\n",
       "      <th rowspan=\"3\" valign=\"top\">u998</th>\n",
       "      <th>u1003</th>\n",
       "      <th>m65</th>\n",
       "      <td>[0.03, 0.01, 0.1, 0.01, 0.01, 0.01, 0.01, 0.01...</td>\n",
       "      <td>[0.02, 0.04, 0.05, 0.07, 0.04, 0.1, 0.04, 0.04...</td>\n",
       "      <td>[0.13, 0.05, 0.04, 0.23, 0.04, 0.1, 0.04, 0.04...</td>\n",
       "      <td>[0.3, 0.12, 0.31, 0.17, 0.11, 0.09, 0.11, 0.11...</td>\n",
       "    </tr>\n",
       "    <tr>\n",
       "      <th>u1004</th>\n",
       "      <th>m65</th>\n",
       "      <td>[0.04, 0.08, 0.08, 0.08, 0.01, 0.22]</td>\n",
       "      <td>[0.41, 0.39, 0.18, 0.39, 0.02, 0.49]</td>\n",
       "      <td>[0.34, 0.33, 0.33, 0.49, 0.02, 0.18]</td>\n",
       "      <td>[0.15, 0.08, 0.04, 0.08, 0.07, 0.17]</td>\n",
       "    </tr>\n",
       "    <tr>\n",
       "      <th>u1005</th>\n",
       "      <th>m65</th>\n",
       "      <td>[0.07, 0.18, 0.36, 0.02, 0.08, 0.02, 0.21, 0.0...</td>\n",
       "      <td>[0.19, 0.34, 0.37, 0.04, 0.14, 0.04, 0.05, 0.0...</td>\n",
       "      <td>[0.05, 0.21, 0.33, 0.08, 0.07, 0.08, 0.31, 0.4...</td>\n",
       "      <td>[0.12, 0.21, 0.24, 0.16, 0.11, 0.16, 0.22, 0.0...</td>\n",
       "    </tr>\n",
       "    <tr>\n",
       "      <th>u999</th>\n",
       "      <th>u1006</th>\n",
       "      <th>m65</th>\n",
       "      <td>[0.15, 0.14, 0.25, 0.01, 0.4, 0.24, 0.32, 0.24...</td>\n",
       "      <td>[0.26, 0.19, 0.18, 0.25, 0.27, 0.21, 0.17, 0.5...</td>\n",
       "      <td>[0.2, 0.1, 0.46, 0.11, 0.34, 0.29, 0.22, 0.11,...</td>\n",
       "      <td>[0.15, 0.18, 0.27, 0.1, 0.2, 0.2, 0.11, 0.53, ...</td>\n",
       "    </tr>\n",
       "  </tbody>\n",
       "</table>\n",
       "<p>10292 rows × 4 columns</p>\n",
       "</div>"
      ],
      "text/plain": [
       "                                                                             anger_proba  \\\n",
       "characterID_1 characterID_2 movieID_x                                                      \n",
       "u0             u11           m0        [0.19, 0.01, 0.09, 0.17, 0.11, 0.19, 0.08, 0.0...   \n",
       "               u2            m0        [0.3, 0.01, 0.1, 0.21, 0.08, 0.06, 0.14, 0.01,...   \n",
       "               u3            m0        [0.35, 0.01, 0.22, 0.03, 0.01, 0.01, 0.01, 0.3...   \n",
       "               u4            m0        [0.01, 0.01, 0.08, 0.05, 0.17, 0.01, 0.19, 0.0...   \n",
       "               u5            m0        [0.01, 0.11, 0.24, 0.07, 0.32, 0.12, 0.25, 0.0...   \n",
       "...                                                                                  ...   \n",
       "u997           u998          m65       [0.01, 0.11, 0.01, 0.24, 0.03, 0.29, 0.4, 0.12...   \n",
       "u998           u1003         m65       [0.03, 0.01, 0.1, 0.01, 0.01, 0.01, 0.01, 0.01...   \n",
       "               u1004         m65                    [0.04, 0.08, 0.08, 0.08, 0.01, 0.22]   \n",
       "               u1005         m65       [0.07, 0.18, 0.36, 0.02, 0.08, 0.02, 0.21, 0.0...   \n",
       "u999           u1006         m65       [0.15, 0.14, 0.25, 0.01, 0.4, 0.24, 0.32, 0.24...   \n",
       "\n",
       "                                                                              fear_proba  \\\n",
       "characterID_1 characterID_2 movieID_x                                                      \n",
       "u0             u11           m0        [0.43, 0.18, 0.06, 0.32, 0.09, 0.29, 0.08, 0.0...   \n",
       "               u2            m0        [0.1, 0.28, 0.05, 0.29, 0.11, 0.04, 0.07, 0.04...   \n",
       "               u3            m0        [0.19, 0.04, 0.34, 0.02, 0.04, 0.04, 0.1, 0.27...   \n",
       "               u4            m0        [0.04, 0.04, 0.11, 0.14, 0.37, 0.04, 0.1, 0.04...   \n",
       "               u5            m0        [0.04, 0.09, 0.28, 0.0, 0.42, 0.06, 0.53, 0.36...   \n",
       "...                                                                                  ...   \n",
       "u997           u998          m65       [0.04, 0.32, 0.14, 0.47, 0.07, 0.19, 0.17, 0.2...   \n",
       "u998           u1003         m65       [0.02, 0.04, 0.05, 0.07, 0.04, 0.1, 0.04, 0.04...   \n",
       "               u1004         m65                    [0.41, 0.39, 0.18, 0.39, 0.02, 0.49]   \n",
       "               u1005         m65       [0.19, 0.34, 0.37, 0.04, 0.14, 0.04, 0.05, 0.0...   \n",
       "u999           u1006         m65       [0.26, 0.19, 0.18, 0.25, 0.27, 0.21, 0.17, 0.5...   \n",
       "\n",
       "                                                                               joy_proba  \\\n",
       "characterID_1 characterID_2 movieID_x                                                      \n",
       "u0             u11           m0        [0.27, 0.16, 0.09, 0.16, 0.04, 0.07, 0.11, 0.0...   \n",
       "               u2            m0        [0.35, 0.38, 0.36, 0.03, 0.43, 0.04, 0.04, 0.0...   \n",
       "               u3            m0        [0.31, 0.04, 0.13, 0.13, 0.04, 0.04, 0.51, 0.1...   \n",
       "               u4            m0        [0.04, 0.06, 0.18, 0.05, 0.4, 0.04, 0.11, 0.04...   \n",
       "               u5            m0        [0.04, 0.04, 0.14, 0.12, 0.21, 0.35, 0.16, 0.0...   \n",
       "...                                                                                  ...   \n",
       "u997           u998          m65       [0.04, 0.15, 0.04, 0.04, 0.16, 0.23, 0.45, 0.2...   \n",
       "u998           u1003         m65       [0.13, 0.05, 0.04, 0.23, 0.04, 0.1, 0.04, 0.04...   \n",
       "               u1004         m65                    [0.34, 0.33, 0.33, 0.49, 0.02, 0.18]   \n",
       "               u1005         m65       [0.05, 0.21, 0.33, 0.08, 0.07, 0.08, 0.31, 0.4...   \n",
       "u999           u1006         m65       [0.2, 0.1, 0.46, 0.11, 0.34, 0.29, 0.22, 0.11,...   \n",
       "\n",
       "                                                                           sadness_proba  \n",
       "characterID_1 characterID_2 movieID_x                                                     \n",
       "u0             u11           m0        [0.23, 0.32, 0.36, 0.18, 0.11, 0.11, 0.16, 0.1...  \n",
       "               u2            m0        [0.47, 0.23, 0.14, 0.18, 0.12, 0.11, 0.11, 0.1...  \n",
       "               u3            m0        [0.14, 0.11, 0.18, 0.3, 0.11, 0.11, 0.12, 0.17...  \n",
       "               u4            m0        [0.11, 0.11, 0.3, 0.14, 0.38, 0.11, 0.4, 0.11,...  \n",
       "               u5            m0        [0.11, 0.11, 0.29, 0.58, 0.15, 0.23, 0.24, 0.1...  \n",
       "...                                                                                  ...  \n",
       "u997           u998          m65       [0.22, 0.45, 0.11, 0.24, 0.27, 0.33, 0.36, 0.1...  \n",
       "u998           u1003         m65       [0.3, 0.12, 0.31, 0.17, 0.11, 0.09, 0.11, 0.11...  \n",
       "               u1004         m65                    [0.15, 0.08, 0.04, 0.08, 0.07, 0.17]  \n",
       "               u1005         m65       [0.12, 0.21, 0.24, 0.16, 0.11, 0.16, 0.22, 0.0...  \n",
       "u999           u1006         m65       [0.15, 0.18, 0.27, 0.1, 0.2, 0.2, 0.11, 0.53, ...  \n",
       "\n",
       "[10292 rows x 4 columns]"
      ]
     },
     "execution_count": 68,
     "metadata": {},
     "output_type": "execute_result"
    }
   ],
   "source": [
    "df_conv_exploded.groupby(['characterID_1', 'characterID_2', \n",
    "                          'movieID_x']).agg({'anger_proba' : list,\n",
    "                                             'fear_proba' : list,\n",
    "                                             'joy_proba' : list,\n",
    "                                             'sadness_proba' : list})"
   ]
  },
  {
   "cell_type": "markdown",
   "id": "3da11a35",
   "metadata": {},
   "source": [
    "Alright, now we have the continuous emotion list from every film and every character couple"
   ]
  },
  {
   "cell_type": "code",
   "execution_count": 69,
   "id": "547d034b",
   "metadata": {
    "ExecuteTime": {
     "end_time": "2022-04-27T13:55:16.113171Z",
     "start_time": "2022-04-27T13:55:15.669003Z"
    }
   },
   "outputs": [],
   "source": [
    "df_final = df_conv_exploded.groupby(['characterID_1', 'characterID_2', \n",
    "                          'movieID_x']).agg({'anger_proba' : list,\n",
    "                                             'fear_proba' : list,\n",
    "                                             'joy_proba' : list,\n",
    "                                             'sadness_proba' : list}).reset_index()"
   ]
  },
  {
   "cell_type": "code",
   "execution_count": 70,
   "id": "6085f6b4",
   "metadata": {
    "ExecuteTime": {
     "end_time": "2022-04-27T13:55:16.124764Z",
     "start_time": "2022-04-27T13:55:16.114041Z"
    }
   },
   "outputs": [
    {
     "data": {
      "text/html": [
       "<div>\n",
       "<style scoped>\n",
       "    .dataframe tbody tr th:only-of-type {\n",
       "        vertical-align: middle;\n",
       "    }\n",
       "\n",
       "    .dataframe tbody tr th {\n",
       "        vertical-align: top;\n",
       "    }\n",
       "\n",
       "    .dataframe thead th {\n",
       "        text-align: right;\n",
       "    }\n",
       "</style>\n",
       "<table border=\"1\" class=\"dataframe\">\n",
       "  <thead>\n",
       "    <tr style=\"text-align: right;\">\n",
       "      <th></th>\n",
       "      <th>characterID_1</th>\n",
       "      <th>characterID_2</th>\n",
       "      <th>movieID_x</th>\n",
       "      <th>anger_proba</th>\n",
       "      <th>fear_proba</th>\n",
       "      <th>joy_proba</th>\n",
       "      <th>sadness_proba</th>\n",
       "    </tr>\n",
       "  </thead>\n",
       "  <tbody>\n",
       "    <tr>\n",
       "      <th>0</th>\n",
       "      <td>u0</td>\n",
       "      <td>u11</td>\n",
       "      <td>m0</td>\n",
       "      <td>[0.19, 0.01, 0.09, 0.17, 0.11, 0.19, 0.08, 0.0...</td>\n",
       "      <td>[0.43, 0.18, 0.06, 0.32, 0.09, 0.29, 0.08, 0.0...</td>\n",
       "      <td>[0.27, 0.16, 0.09, 0.16, 0.04, 0.07, 0.11, 0.0...</td>\n",
       "      <td>[0.23, 0.32, 0.36, 0.18, 0.11, 0.11, 0.16, 0.1...</td>\n",
       "    </tr>\n",
       "    <tr>\n",
       "      <th>1</th>\n",
       "      <td>u0</td>\n",
       "      <td>u2</td>\n",
       "      <td>m0</td>\n",
       "      <td>[0.3, 0.01, 0.1, 0.21, 0.08, 0.06, 0.14, 0.01,...</td>\n",
       "      <td>[0.1, 0.28, 0.05, 0.29, 0.11, 0.04, 0.07, 0.04...</td>\n",
       "      <td>[0.35, 0.38, 0.36, 0.03, 0.43, 0.04, 0.04, 0.0...</td>\n",
       "      <td>[0.47, 0.23, 0.14, 0.18, 0.12, 0.11, 0.11, 0.1...</td>\n",
       "    </tr>\n",
       "    <tr>\n",
       "      <th>2</th>\n",
       "      <td>u0</td>\n",
       "      <td>u3</td>\n",
       "      <td>m0</td>\n",
       "      <td>[0.35, 0.01, 0.22, 0.03, 0.01, 0.01, 0.01, 0.3...</td>\n",
       "      <td>[0.19, 0.04, 0.34, 0.02, 0.04, 0.04, 0.1, 0.27...</td>\n",
       "      <td>[0.31, 0.04, 0.13, 0.13, 0.04, 0.04, 0.51, 0.1...</td>\n",
       "      <td>[0.14, 0.11, 0.18, 0.3, 0.11, 0.11, 0.12, 0.17...</td>\n",
       "    </tr>\n",
       "    <tr>\n",
       "      <th>3</th>\n",
       "      <td>u0</td>\n",
       "      <td>u4</td>\n",
       "      <td>m0</td>\n",
       "      <td>[0.01, 0.01, 0.08, 0.05, 0.17, 0.01, 0.19, 0.0...</td>\n",
       "      <td>[0.04, 0.04, 0.11, 0.14, 0.37, 0.04, 0.1, 0.04...</td>\n",
       "      <td>[0.04, 0.06, 0.18, 0.05, 0.4, 0.04, 0.11, 0.04...</td>\n",
       "      <td>[0.11, 0.11, 0.3, 0.14, 0.38, 0.11, 0.4, 0.11,...</td>\n",
       "    </tr>\n",
       "    <tr>\n",
       "      <th>4</th>\n",
       "      <td>u0</td>\n",
       "      <td>u5</td>\n",
       "      <td>m0</td>\n",
       "      <td>[0.01, 0.11, 0.24, 0.07, 0.32, 0.12, 0.25, 0.0...</td>\n",
       "      <td>[0.04, 0.09, 0.28, 0.0, 0.42, 0.06, 0.53, 0.36...</td>\n",
       "      <td>[0.04, 0.04, 0.14, 0.12, 0.21, 0.35, 0.16, 0.0...</td>\n",
       "      <td>[0.11, 0.11, 0.29, 0.58, 0.15, 0.23, 0.24, 0.1...</td>\n",
       "    </tr>\n",
       "  </tbody>\n",
       "</table>\n",
       "</div>"
      ],
      "text/plain": [
       "  characterID_1 characterID_2 movieID_x  \\\n",
       "0           u0           u11        m0    \n",
       "1           u0            u2        m0    \n",
       "2           u0            u3        m0    \n",
       "3           u0            u4        m0    \n",
       "4           u0            u5        m0    \n",
       "\n",
       "                                         anger_proba  \\\n",
       "0  [0.19, 0.01, 0.09, 0.17, 0.11, 0.19, 0.08, 0.0...   \n",
       "1  [0.3, 0.01, 0.1, 0.21, 0.08, 0.06, 0.14, 0.01,...   \n",
       "2  [0.35, 0.01, 0.22, 0.03, 0.01, 0.01, 0.01, 0.3...   \n",
       "3  [0.01, 0.01, 0.08, 0.05, 0.17, 0.01, 0.19, 0.0...   \n",
       "4  [0.01, 0.11, 0.24, 0.07, 0.32, 0.12, 0.25, 0.0...   \n",
       "\n",
       "                                          fear_proba  \\\n",
       "0  [0.43, 0.18, 0.06, 0.32, 0.09, 0.29, 0.08, 0.0...   \n",
       "1  [0.1, 0.28, 0.05, 0.29, 0.11, 0.04, 0.07, 0.04...   \n",
       "2  [0.19, 0.04, 0.34, 0.02, 0.04, 0.04, 0.1, 0.27...   \n",
       "3  [0.04, 0.04, 0.11, 0.14, 0.37, 0.04, 0.1, 0.04...   \n",
       "4  [0.04, 0.09, 0.28, 0.0, 0.42, 0.06, 0.53, 0.36...   \n",
       "\n",
       "                                           joy_proba  \\\n",
       "0  [0.27, 0.16, 0.09, 0.16, 0.04, 0.07, 0.11, 0.0...   \n",
       "1  [0.35, 0.38, 0.36, 0.03, 0.43, 0.04, 0.04, 0.0...   \n",
       "2  [0.31, 0.04, 0.13, 0.13, 0.04, 0.04, 0.51, 0.1...   \n",
       "3  [0.04, 0.06, 0.18, 0.05, 0.4, 0.04, 0.11, 0.04...   \n",
       "4  [0.04, 0.04, 0.14, 0.12, 0.21, 0.35, 0.16, 0.0...   \n",
       "\n",
       "                                       sadness_proba  \n",
       "0  [0.23, 0.32, 0.36, 0.18, 0.11, 0.11, 0.16, 0.1...  \n",
       "1  [0.47, 0.23, 0.14, 0.18, 0.12, 0.11, 0.11, 0.1...  \n",
       "2  [0.14, 0.11, 0.18, 0.3, 0.11, 0.11, 0.12, 0.17...  \n",
       "3  [0.11, 0.11, 0.3, 0.14, 0.38, 0.11, 0.4, 0.11,...  \n",
       "4  [0.11, 0.11, 0.29, 0.58, 0.15, 0.23, 0.24, 0.1...  "
      ]
     },
     "execution_count": 70,
     "metadata": {},
     "output_type": "execute_result"
    }
   ],
   "source": [
    "df_final.head()"
   ]
  },
  {
   "cell_type": "markdown",
   "id": "f4bd005f",
   "metadata": {},
   "source": [
    "Let's watch how emotions changed through the film"
   ]
  },
  {
   "cell_type": "markdown",
   "id": "5fb0a3f7",
   "metadata": {},
   "source": [
    "# Visualization"
   ]
  },
  {
   "cell_type": "markdown",
   "id": "3b387787",
   "metadata": {},
   "source": [
    "## Movies data"
   ]
  },
  {
   "cell_type": "code",
   "execution_count": 71,
   "id": "2d36914d",
   "metadata": {
    "ExecuteTime": {
     "end_time": "2022-04-27T13:55:16.128272Z",
     "start_time": "2022-04-27T13:55:16.125795Z"
    }
   },
   "outputs": [],
   "source": [
    "df_movies = io.open('cornell movie-dialogs corpus/movie_titles_metadata.txt',\"r\",encoding='ISO-8859-1')"
   ]
  },
  {
   "cell_type": "code",
   "execution_count": 72,
   "id": "30200328",
   "metadata": {
    "ExecuteTime": {
     "end_time": "2022-04-27T13:55:16.131290Z",
     "start_time": "2022-04-27T13:55:16.129137Z"
    }
   },
   "outputs": [],
   "source": [
    "df_movies = df_movies.read()"
   ]
  },
  {
   "cell_type": "code",
   "execution_count": 73,
   "id": "d4147fd5",
   "metadata": {
    "ExecuteTime": {
     "end_time": "2022-04-27T13:55:16.134046Z",
     "start_time": "2022-04-27T13:55:16.132172Z"
    }
   },
   "outputs": [],
   "source": [
    "df_movies = df_movies.split('\\n')"
   ]
  },
  {
   "cell_type": "code",
   "execution_count": 74,
   "id": "c6c07803",
   "metadata": {
    "ExecuteTime": {
     "end_time": "2022-04-27T13:55:16.137665Z",
     "start_time": "2022-04-27T13:55:16.134868Z"
    }
   },
   "outputs": [],
   "source": [
    "df_movies = pd.DataFrame([x.split('+++$+++') for x in df_movies])"
   ]
  },
  {
   "cell_type": "code",
   "execution_count": 75,
   "id": "738757ba",
   "metadata": {
    "ExecuteTime": {
     "end_time": "2022-04-27T13:55:16.140447Z",
     "start_time": "2022-04-27T13:55:16.138583Z"
    }
   },
   "outputs": [],
   "source": [
    "df_movies.columns = ['movieID', 'movie title', 'movie year', 'IMDB rating', 'no. IMDB votes', 'genres']"
   ]
  },
  {
   "cell_type": "code",
   "execution_count": 76,
   "id": "6bb1aee1",
   "metadata": {
    "ExecuteTime": {
     "end_time": "2022-04-27T13:55:16.147072Z",
     "start_time": "2022-04-27T13:55:16.141436Z"
    },
    "scrolled": true
   },
   "outputs": [
    {
     "data": {
      "text/html": [
       "<div>\n",
       "<style scoped>\n",
       "    .dataframe tbody tr th:only-of-type {\n",
       "        vertical-align: middle;\n",
       "    }\n",
       "\n",
       "    .dataframe tbody tr th {\n",
       "        vertical-align: top;\n",
       "    }\n",
       "\n",
       "    .dataframe thead th {\n",
       "        text-align: right;\n",
       "    }\n",
       "</style>\n",
       "<table border=\"1\" class=\"dataframe\">\n",
       "  <thead>\n",
       "    <tr style=\"text-align: right;\">\n",
       "      <th></th>\n",
       "      <th>movieID</th>\n",
       "      <th>movie title</th>\n",
       "      <th>movie year</th>\n",
       "      <th>IMDB rating</th>\n",
       "      <th>no. IMDB votes</th>\n",
       "      <th>genres</th>\n",
       "    </tr>\n",
       "  </thead>\n",
       "  <tbody>\n",
       "    <tr>\n",
       "      <th>0</th>\n",
       "      <td>m0</td>\n",
       "      <td>10 things i hate about you</td>\n",
       "      <td>1999</td>\n",
       "      <td>6.90</td>\n",
       "      <td>62847</td>\n",
       "      <td>['comedy', 'romance']</td>\n",
       "    </tr>\n",
       "    <tr>\n",
       "      <th>1</th>\n",
       "      <td>m1</td>\n",
       "      <td>1492: conquest of paradise</td>\n",
       "      <td>1992</td>\n",
       "      <td>6.20</td>\n",
       "      <td>10421</td>\n",
       "      <td>['adventure', 'biography', 'drama', 'history']</td>\n",
       "    </tr>\n",
       "    <tr>\n",
       "      <th>2</th>\n",
       "      <td>m2</td>\n",
       "      <td>15 minutes</td>\n",
       "      <td>2001</td>\n",
       "      <td>6.10</td>\n",
       "      <td>25854</td>\n",
       "      <td>['action', 'crime', 'drama', 'thriller']</td>\n",
       "    </tr>\n",
       "    <tr>\n",
       "      <th>3</th>\n",
       "      <td>m3</td>\n",
       "      <td>2001: a space odyssey</td>\n",
       "      <td>1968</td>\n",
       "      <td>8.40</td>\n",
       "      <td>163227</td>\n",
       "      <td>['adventure', 'mystery', 'sci-fi']</td>\n",
       "    </tr>\n",
       "    <tr>\n",
       "      <th>4</th>\n",
       "      <td>m4</td>\n",
       "      <td>48 hrs.</td>\n",
       "      <td>1982</td>\n",
       "      <td>6.90</td>\n",
       "      <td>22289</td>\n",
       "      <td>['action', 'comedy', 'crime', 'drama', 'thril...</td>\n",
       "    </tr>\n",
       "  </tbody>\n",
       "</table>\n",
       "</div>"
      ],
      "text/plain": [
       "  movieID                   movie title movie year IMDB rating no. IMDB votes  \\\n",
       "0     m0    10 things i hate about you       1999        6.90          62847    \n",
       "1     m1    1492: conquest of paradise       1992        6.20          10421    \n",
       "2     m2                    15 minutes       2001        6.10          25854    \n",
       "3     m3         2001: a space odyssey       1968        8.40         163227    \n",
       "4     m4                       48 hrs.       1982        6.90          22289    \n",
       "\n",
       "                                              genres  \n",
       "0                              ['comedy', 'romance']  \n",
       "1     ['adventure', 'biography', 'drama', 'history']  \n",
       "2           ['action', 'crime', 'drama', 'thriller']  \n",
       "3                 ['adventure', 'mystery', 'sci-fi']  \n",
       "4   ['action', 'comedy', 'crime', 'drama', 'thril...  "
      ]
     },
     "execution_count": 76,
     "metadata": {},
     "output_type": "execute_result"
    }
   ],
   "source": [
    "df_movies.head()"
   ]
  },
  {
   "cell_type": "code",
   "execution_count": 77,
   "id": "93c540bc",
   "metadata": {
    "ExecuteTime": {
     "end_time": "2022-04-27T13:55:16.160085Z",
     "start_time": "2022-04-27T13:55:16.148039Z"
    }
   },
   "outputs": [
    {
     "data": {
      "text/html": [
       "<div>\n",
       "<style scoped>\n",
       "    .dataframe tbody tr th:only-of-type {\n",
       "        vertical-align: middle;\n",
       "    }\n",
       "\n",
       "    .dataframe tbody tr th {\n",
       "        vertical-align: top;\n",
       "    }\n",
       "\n",
       "    .dataframe thead th {\n",
       "        text-align: right;\n",
       "    }\n",
       "</style>\n",
       "<table border=\"1\" class=\"dataframe\">\n",
       "  <thead>\n",
       "    <tr style=\"text-align: right;\">\n",
       "      <th></th>\n",
       "      <th>characterID_1</th>\n",
       "      <th>characterID_2</th>\n",
       "      <th>movieID_x</th>\n",
       "      <th>anger_proba</th>\n",
       "      <th>fear_proba</th>\n",
       "      <th>joy_proba</th>\n",
       "      <th>sadness_proba</th>\n",
       "    </tr>\n",
       "  </thead>\n",
       "  <tbody>\n",
       "    <tr>\n",
       "      <th>0</th>\n",
       "      <td>u0</td>\n",
       "      <td>u11</td>\n",
       "      <td>m0</td>\n",
       "      <td>[0.19, 0.01, 0.09, 0.17, 0.11, 0.19, 0.08, 0.0...</td>\n",
       "      <td>[0.43, 0.18, 0.06, 0.32, 0.09, 0.29, 0.08, 0.0...</td>\n",
       "      <td>[0.27, 0.16, 0.09, 0.16, 0.04, 0.07, 0.11, 0.0...</td>\n",
       "      <td>[0.23, 0.32, 0.36, 0.18, 0.11, 0.11, 0.16, 0.1...</td>\n",
       "    </tr>\n",
       "    <tr>\n",
       "      <th>1</th>\n",
       "      <td>u0</td>\n",
       "      <td>u2</td>\n",
       "      <td>m0</td>\n",
       "      <td>[0.3, 0.01, 0.1, 0.21, 0.08, 0.06, 0.14, 0.01,...</td>\n",
       "      <td>[0.1, 0.28, 0.05, 0.29, 0.11, 0.04, 0.07, 0.04...</td>\n",
       "      <td>[0.35, 0.38, 0.36, 0.03, 0.43, 0.04, 0.04, 0.0...</td>\n",
       "      <td>[0.47, 0.23, 0.14, 0.18, 0.12, 0.11, 0.11, 0.1...</td>\n",
       "    </tr>\n",
       "    <tr>\n",
       "      <th>2</th>\n",
       "      <td>u0</td>\n",
       "      <td>u3</td>\n",
       "      <td>m0</td>\n",
       "      <td>[0.35, 0.01, 0.22, 0.03, 0.01, 0.01, 0.01, 0.3...</td>\n",
       "      <td>[0.19, 0.04, 0.34, 0.02, 0.04, 0.04, 0.1, 0.27...</td>\n",
       "      <td>[0.31, 0.04, 0.13, 0.13, 0.04, 0.04, 0.51, 0.1...</td>\n",
       "      <td>[0.14, 0.11, 0.18, 0.3, 0.11, 0.11, 0.12, 0.17...</td>\n",
       "    </tr>\n",
       "    <tr>\n",
       "      <th>3</th>\n",
       "      <td>u0</td>\n",
       "      <td>u4</td>\n",
       "      <td>m0</td>\n",
       "      <td>[0.01, 0.01, 0.08, 0.05, 0.17, 0.01, 0.19, 0.0...</td>\n",
       "      <td>[0.04, 0.04, 0.11, 0.14, 0.37, 0.04, 0.1, 0.04...</td>\n",
       "      <td>[0.04, 0.06, 0.18, 0.05, 0.4, 0.04, 0.11, 0.04...</td>\n",
       "      <td>[0.11, 0.11, 0.3, 0.14, 0.38, 0.11, 0.4, 0.11,...</td>\n",
       "    </tr>\n",
       "    <tr>\n",
       "      <th>4</th>\n",
       "      <td>u0</td>\n",
       "      <td>u5</td>\n",
       "      <td>m0</td>\n",
       "      <td>[0.01, 0.11, 0.24, 0.07, 0.32, 0.12, 0.25, 0.0...</td>\n",
       "      <td>[0.04, 0.09, 0.28, 0.0, 0.42, 0.06, 0.53, 0.36...</td>\n",
       "      <td>[0.04, 0.04, 0.14, 0.12, 0.21, 0.35, 0.16, 0.0...</td>\n",
       "      <td>[0.11, 0.11, 0.29, 0.58, 0.15, 0.23, 0.24, 0.1...</td>\n",
       "    </tr>\n",
       "  </tbody>\n",
       "</table>\n",
       "</div>"
      ],
      "text/plain": [
       "  characterID_1 characterID_2 movieID_x  \\\n",
       "0           u0           u11        m0    \n",
       "1           u0            u2        m0    \n",
       "2           u0            u3        m0    \n",
       "3           u0            u4        m0    \n",
       "4           u0            u5        m0    \n",
       "\n",
       "                                         anger_proba  \\\n",
       "0  [0.19, 0.01, 0.09, 0.17, 0.11, 0.19, 0.08, 0.0...   \n",
       "1  [0.3, 0.01, 0.1, 0.21, 0.08, 0.06, 0.14, 0.01,...   \n",
       "2  [0.35, 0.01, 0.22, 0.03, 0.01, 0.01, 0.01, 0.3...   \n",
       "3  [0.01, 0.01, 0.08, 0.05, 0.17, 0.01, 0.19, 0.0...   \n",
       "4  [0.01, 0.11, 0.24, 0.07, 0.32, 0.12, 0.25, 0.0...   \n",
       "\n",
       "                                          fear_proba  \\\n",
       "0  [0.43, 0.18, 0.06, 0.32, 0.09, 0.29, 0.08, 0.0...   \n",
       "1  [0.1, 0.28, 0.05, 0.29, 0.11, 0.04, 0.07, 0.04...   \n",
       "2  [0.19, 0.04, 0.34, 0.02, 0.04, 0.04, 0.1, 0.27...   \n",
       "3  [0.04, 0.04, 0.11, 0.14, 0.37, 0.04, 0.1, 0.04...   \n",
       "4  [0.04, 0.09, 0.28, 0.0, 0.42, 0.06, 0.53, 0.36...   \n",
       "\n",
       "                                           joy_proba  \\\n",
       "0  [0.27, 0.16, 0.09, 0.16, 0.04, 0.07, 0.11, 0.0...   \n",
       "1  [0.35, 0.38, 0.36, 0.03, 0.43, 0.04, 0.04, 0.0...   \n",
       "2  [0.31, 0.04, 0.13, 0.13, 0.04, 0.04, 0.51, 0.1...   \n",
       "3  [0.04, 0.06, 0.18, 0.05, 0.4, 0.04, 0.11, 0.04...   \n",
       "4  [0.04, 0.04, 0.14, 0.12, 0.21, 0.35, 0.16, 0.0...   \n",
       "\n",
       "                                       sadness_proba  \n",
       "0  [0.23, 0.32, 0.36, 0.18, 0.11, 0.11, 0.16, 0.1...  \n",
       "1  [0.47, 0.23, 0.14, 0.18, 0.12, 0.11, 0.11, 0.1...  \n",
       "2  [0.14, 0.11, 0.18, 0.3, 0.11, 0.11, 0.12, 0.17...  \n",
       "3  [0.11, 0.11, 0.3, 0.14, 0.38, 0.11, 0.4, 0.11,...  \n",
       "4  [0.11, 0.11, 0.29, 0.58, 0.15, 0.23, 0.24, 0.1...  "
      ]
     },
     "execution_count": 77,
     "metadata": {},
     "output_type": "execute_result"
    }
   ],
   "source": [
    "df_final.head()"
   ]
  },
  {
   "cell_type": "code",
   "execution_count": 78,
   "id": "750bc4bf",
   "metadata": {
    "ExecuteTime": {
     "end_time": "2022-04-27T13:55:16.168894Z",
     "start_time": "2022-04-27T13:55:16.161200Z"
    }
   },
   "outputs": [
    {
     "data": {
      "text/html": [
       "<div>\n",
       "<style scoped>\n",
       "    .dataframe tbody tr th:only-of-type {\n",
       "        vertical-align: middle;\n",
       "    }\n",
       "\n",
       "    .dataframe tbody tr th {\n",
       "        vertical-align: top;\n",
       "    }\n",
       "\n",
       "    .dataframe thead th {\n",
       "        text-align: right;\n",
       "    }\n",
       "</style>\n",
       "<table border=\"1\" class=\"dataframe\">\n",
       "  <thead>\n",
       "    <tr style=\"text-align: right;\">\n",
       "      <th></th>\n",
       "      <th>lineID</th>\n",
       "      <th>characterID</th>\n",
       "      <th>movieID</th>\n",
       "      <th>character name</th>\n",
       "      <th>text</th>\n",
       "      <th>anger_proba</th>\n",
       "      <th>fear_proba</th>\n",
       "      <th>joy_proba</th>\n",
       "      <th>sadness_proba</th>\n",
       "      <th>anger</th>\n",
       "      <th>fear</th>\n",
       "      <th>joy</th>\n",
       "      <th>sadness</th>\n",
       "      <th>no_emotions</th>\n",
       "    </tr>\n",
       "  </thead>\n",
       "  <tbody>\n",
       "    <tr>\n",
       "      <th>0</th>\n",
       "      <td>L1045</td>\n",
       "      <td>u0</td>\n",
       "      <td>m0</td>\n",
       "      <td>BIANCA</td>\n",
       "      <td>They do not!</td>\n",
       "      <td>0.01</td>\n",
       "      <td>0.04</td>\n",
       "      <td>0.04</td>\n",
       "      <td>0.11</td>\n",
       "      <td>0</td>\n",
       "      <td>0</td>\n",
       "      <td>0</td>\n",
       "      <td>0</td>\n",
       "      <td>1</td>\n",
       "    </tr>\n",
       "    <tr>\n",
       "      <th>1</th>\n",
       "      <td>L1044</td>\n",
       "      <td>u2</td>\n",
       "      <td>m0</td>\n",
       "      <td>CAMERON</td>\n",
       "      <td>They do to!</td>\n",
       "      <td>0.01</td>\n",
       "      <td>0.04</td>\n",
       "      <td>0.04</td>\n",
       "      <td>0.11</td>\n",
       "      <td>0</td>\n",
       "      <td>0</td>\n",
       "      <td>0</td>\n",
       "      <td>0</td>\n",
       "      <td>1</td>\n",
       "    </tr>\n",
       "    <tr>\n",
       "      <th>2</th>\n",
       "      <td>L985</td>\n",
       "      <td>u0</td>\n",
       "      <td>m0</td>\n",
       "      <td>BIANCA</td>\n",
       "      <td>I hope so.</td>\n",
       "      <td>0.05</td>\n",
       "      <td>0.14</td>\n",
       "      <td>0.05</td>\n",
       "      <td>0.14</td>\n",
       "      <td>0</td>\n",
       "      <td>0</td>\n",
       "      <td>0</td>\n",
       "      <td>0</td>\n",
       "      <td>1</td>\n",
       "    </tr>\n",
       "    <tr>\n",
       "      <th>3</th>\n",
       "      <td>L984</td>\n",
       "      <td>u2</td>\n",
       "      <td>m0</td>\n",
       "      <td>CAMERON</td>\n",
       "      <td>She okay?</td>\n",
       "      <td>0.01</td>\n",
       "      <td>0.17</td>\n",
       "      <td>0.04</td>\n",
       "      <td>0.11</td>\n",
       "      <td>0</td>\n",
       "      <td>0</td>\n",
       "      <td>0</td>\n",
       "      <td>0</td>\n",
       "      <td>1</td>\n",
       "    </tr>\n",
       "    <tr>\n",
       "      <th>4</th>\n",
       "      <td>L925</td>\n",
       "      <td>u0</td>\n",
       "      <td>m0</td>\n",
       "      <td>BIANCA</td>\n",
       "      <td>Let's go.</td>\n",
       "      <td>0.03</td>\n",
       "      <td>0.12</td>\n",
       "      <td>0.21</td>\n",
       "      <td>0.24</td>\n",
       "      <td>0</td>\n",
       "      <td>0</td>\n",
       "      <td>0</td>\n",
       "      <td>0</td>\n",
       "      <td>1</td>\n",
       "    </tr>\n",
       "  </tbody>\n",
       "</table>\n",
       "</div>"
      ],
      "text/plain": [
       "  lineID characterID movieID character name           text  anger_proba  \\\n",
       "0  L1045         u0      m0         BIANCA    They do not!         0.01   \n",
       "1  L1044         u2      m0        CAMERON     They do to!         0.01   \n",
       "2   L985         u0      m0         BIANCA      I hope so.         0.05   \n",
       "3   L984         u2      m0        CAMERON       She okay?         0.01   \n",
       "4   L925         u0      m0         BIANCA       Let's go.         0.03   \n",
       "\n",
       "   fear_proba  joy_proba  sadness_proba  anger  fear  joy  sadness  \\\n",
       "0        0.04       0.04           0.11      0     0    0        0   \n",
       "1        0.04       0.04           0.11      0     0    0        0   \n",
       "2        0.14       0.05           0.14      0     0    0        0   \n",
       "3        0.17       0.04           0.11      0     0    0        0   \n",
       "4        0.12       0.21           0.24      0     0    0        0   \n",
       "\n",
       "   no_emotions  \n",
       "0            1  \n",
       "1            1  \n",
       "2            1  \n",
       "3            1  \n",
       "4            1  "
      ]
     },
     "execution_count": 78,
     "metadata": {},
     "output_type": "execute_result"
    }
   ],
   "source": [
    "df_text.head()"
   ]
  },
  {
   "cell_type": "markdown",
   "id": "34794deb",
   "metadata": {},
   "source": [
    "## Visualization 1"
   ]
  },
  {
   "cell_type": "code",
   "execution_count": 81,
   "id": "5cec2f69",
   "metadata": {
    "ExecuteTime": {
     "end_time": "2022-04-27T14:46:34.415309Z",
     "start_time": "2022-04-27T14:46:34.187186Z"
    },
    "scrolled": true
   },
   "outputs": [],
   "source": [
    "df_plot_1 = df_conv_exploded.sort_values(by=['characterID_1', 'lineID'])\n",
    "df_plot_1 = df_plot_1[df_plot_1['characterID_1'] == 'u0 ']\n",
    "df_plot_1['speech_count'] = np.arange(0, len(df_plot_1))"
   ]
  },
  {
   "cell_type": "code",
   "execution_count": 83,
   "id": "cb45697f",
   "metadata": {
    "ExecuteTime": {
     "end_time": "2022-04-27T14:46:50.888068Z",
     "start_time": "2022-04-27T14:46:50.875057Z"
    }
   },
   "outputs": [
    {
     "data": {
      "text/plain": [
       "array([' BIANCA ', ' CHASTITY ', ' KAT ', ' WALTER ', ' CAMERON ',\n",
       "       ' JOEY '], dtype=object)"
      ]
     },
     "execution_count": 83,
     "metadata": {},
     "output_type": "execute_result"
    }
   ],
   "source": [
    "df_plot_1['character name'].unique()"
   ]
  },
  {
   "cell_type": "code",
   "execution_count": 84,
   "id": "566d8cd7",
   "metadata": {
    "ExecuteTime": {
     "end_time": "2022-04-27T14:46:59.584998Z",
     "start_time": "2022-04-27T14:46:59.546822Z"
    }
   },
   "outputs": [
    {
     "data": {
      "text/html": [
       "<div>\n",
       "<style scoped>\n",
       "    .dataframe tbody tr th:only-of-type {\n",
       "        vertical-align: middle;\n",
       "    }\n",
       "\n",
       "    .dataframe tbody tr th {\n",
       "        vertical-align: top;\n",
       "    }\n",
       "\n",
       "    .dataframe thead th {\n",
       "        text-align: right;\n",
       "    }\n",
       "</style>\n",
       "<table border=\"1\" class=\"dataframe\">\n",
       "  <thead>\n",
       "    <tr style=\"text-align: right;\">\n",
       "      <th></th>\n",
       "      <th>characterID</th>\n",
       "      <th>character name</th>\n",
       "    </tr>\n",
       "  </thead>\n",
       "  <tbody>\n",
       "    <tr>\n",
       "      <th>1</th>\n",
       "      <td>u2</td>\n",
       "      <td>CAMERON</td>\n",
       "    </tr>\n",
       "    <tr>\n",
       "      <th>70</th>\n",
       "      <td>u3</td>\n",
       "      <td>CHASTITY</td>\n",
       "    </tr>\n",
       "    <tr>\n",
       "      <th>88</th>\n",
       "      <td>u4</td>\n",
       "      <td>JOEY</td>\n",
       "    </tr>\n",
       "    <tr>\n",
       "      <th>101</th>\n",
       "      <td>u5</td>\n",
       "      <td>KAT</td>\n",
       "    </tr>\n",
       "    <tr>\n",
       "      <th>162</th>\n",
       "      <td>u11</td>\n",
       "      <td>WALTER</td>\n",
       "    </tr>\n",
       "  </tbody>\n",
       "</table>\n",
       "</div>"
      ],
      "text/plain": [
       "    characterID character name\n",
       "1           u2        CAMERON \n",
       "70          u3       CHASTITY \n",
       "88          u4           JOEY \n",
       "101         u5            KAT \n",
       "162        u11         WALTER "
      ]
     },
     "execution_count": 84,
     "metadata": {},
     "output_type": "execute_result"
    }
   ],
   "source": [
    "df_text.loc[df_text['characterID'].isin(df_plot_1['characterID_2']),\n",
    "           ['characterID', 'character name']].drop_duplicates()"
   ]
  },
  {
   "cell_type": "code",
   "execution_count": 90,
   "id": "dab0e392",
   "metadata": {
    "ExecuteTime": {
     "end_time": "2022-04-27T15:00:01.457236Z",
     "start_time": "2022-04-27T15:00:01.435671Z"
    }
   },
   "outputs": [
    {
     "data": {
      "text/html": [
       "<div>\n",
       "<style scoped>\n",
       "    .dataframe tbody tr th:only-of-type {\n",
       "        vertical-align: middle;\n",
       "    }\n",
       "\n",
       "    .dataframe tbody tr th {\n",
       "        vertical-align: top;\n",
       "    }\n",
       "\n",
       "    .dataframe thead th {\n",
       "        text-align: right;\n",
       "    }\n",
       "</style>\n",
       "<table border=\"1\" class=\"dataframe\">\n",
       "  <thead>\n",
       "    <tr style=\"text-align: right;\">\n",
       "      <th></th>\n",
       "      <th>characterID_1</th>\n",
       "      <th>characterID_2</th>\n",
       "      <th>movieID_x</th>\n",
       "      <th>sequence</th>\n",
       "      <th>lineID</th>\n",
       "      <th>characterID</th>\n",
       "      <th>movieID_y</th>\n",
       "      <th>character name</th>\n",
       "      <th>text</th>\n",
       "      <th>anger_proba</th>\n",
       "      <th>fear_proba</th>\n",
       "      <th>joy_proba</th>\n",
       "      <th>sadness_proba</th>\n",
       "      <th>anger</th>\n",
       "      <th>fear</th>\n",
       "      <th>joy</th>\n",
       "      <th>sadness</th>\n",
       "      <th>no_emotions</th>\n",
       "      <th>speech_count</th>\n",
       "    </tr>\n",
       "  </thead>\n",
       "  <tbody>\n",
       "    <tr>\n",
       "      <th>69</th>\n",
       "      <td>u0</td>\n",
       "      <td>u3</td>\n",
       "      <td>m0</td>\n",
       "      <td>L49</td>\n",
       "      <td>49</td>\n",
       "      <td>u0</td>\n",
       "      <td>m0</td>\n",
       "      <td>BIANCA</td>\n",
       "      <td>Did you change your hair?</td>\n",
       "      <td>0.35</td>\n",
       "      <td>0.19</td>\n",
       "      <td>0.31</td>\n",
       "      <td>0.14</td>\n",
       "      <td>0</td>\n",
       "      <td>0</td>\n",
       "      <td>0</td>\n",
       "      <td>0</td>\n",
       "      <td>1</td>\n",
       "      <td>0</td>\n",
       "    </tr>\n",
       "    <tr>\n",
       "      <th>70</th>\n",
       "      <td>u0</td>\n",
       "      <td>u3</td>\n",
       "      <td>m0</td>\n",
       "      <td>L50</td>\n",
       "      <td>50</td>\n",
       "      <td>u3</td>\n",
       "      <td>m0</td>\n",
       "      <td>CHASTITY</td>\n",
       "      <td>No.</td>\n",
       "      <td>0.01</td>\n",
       "      <td>0.04</td>\n",
       "      <td>0.04</td>\n",
       "      <td>0.11</td>\n",
       "      <td>0</td>\n",
       "      <td>0</td>\n",
       "      <td>0</td>\n",
       "      <td>0</td>\n",
       "      <td>1</td>\n",
       "      <td>1</td>\n",
       "    </tr>\n",
       "    <tr>\n",
       "      <th>71</th>\n",
       "      <td>u0</td>\n",
       "      <td>u3</td>\n",
       "      <td>m0</td>\n",
       "      <td>L51</td>\n",
       "      <td>51</td>\n",
       "      <td>u0</td>\n",
       "      <td>m0</td>\n",
       "      <td>BIANCA</td>\n",
       "      <td>You might wanna think about it</td>\n",
       "      <td>0.22</td>\n",
       "      <td>0.34</td>\n",
       "      <td>0.13</td>\n",
       "      <td>0.18</td>\n",
       "      <td>0</td>\n",
       "      <td>0</td>\n",
       "      <td>0</td>\n",
       "      <td>0</td>\n",
       "      <td>1</td>\n",
       "      <td>2</td>\n",
       "    </tr>\n",
       "    <tr>\n",
       "      <th>101</th>\n",
       "      <td>u0</td>\n",
       "      <td>u5</td>\n",
       "      <td>m0</td>\n",
       "      <td>L164</td>\n",
       "      <td>164</td>\n",
       "      <td>u5</td>\n",
       "      <td>m0</td>\n",
       "      <td>KAT</td>\n",
       "      <td>Where've you been?</td>\n",
       "      <td>0.01</td>\n",
       "      <td>0.04</td>\n",
       "      <td>0.04</td>\n",
       "      <td>0.11</td>\n",
       "      <td>0</td>\n",
       "      <td>0</td>\n",
       "      <td>0</td>\n",
       "      <td>0</td>\n",
       "      <td>1</td>\n",
       "      <td>3</td>\n",
       "    </tr>\n",
       "    <tr>\n",
       "      <th>102</th>\n",
       "      <td>u0</td>\n",
       "      <td>u5</td>\n",
       "      <td>m0</td>\n",
       "      <td>L165</td>\n",
       "      <td>165</td>\n",
       "      <td>u0</td>\n",
       "      <td>m0</td>\n",
       "      <td>BIANCA</td>\n",
       "      <td>Nowhere... Hi, Daddy.</td>\n",
       "      <td>0.11</td>\n",
       "      <td>0.09</td>\n",
       "      <td>0.04</td>\n",
       "      <td>0.11</td>\n",
       "      <td>0</td>\n",
       "      <td>0</td>\n",
       "      <td>0</td>\n",
       "      <td>0</td>\n",
       "      <td>1</td>\n",
       "      <td>4</td>\n",
       "    </tr>\n",
       "  </tbody>\n",
       "</table>\n",
       "</div>"
      ],
      "text/plain": [
       "    characterID_1 characterID_2 movieID_x sequence  lineID characterID  \\\n",
       "69            u0            u3        m0       L49      49         u0    \n",
       "70            u0            u3        m0       L50      50         u3    \n",
       "71            u0            u3        m0       L51      51         u0    \n",
       "101           u0            u5        m0      L164     164         u5    \n",
       "102           u0            u5        m0      L165     165         u0    \n",
       "\n",
       "    movieID_y character name                             text  anger_proba  \\\n",
       "69        m0         BIANCA         Did you change your hair?         0.35   \n",
       "70        m0       CHASTITY                               No.         0.01   \n",
       "71        m0         BIANCA    You might wanna think about it         0.22   \n",
       "101       m0            KAT                Where've you been?         0.01   \n",
       "102       m0         BIANCA             Nowhere... Hi, Daddy.         0.11   \n",
       "\n",
       "     fear_proba  joy_proba  sadness_proba  anger  fear  joy  sadness  \\\n",
       "69         0.19       0.31           0.14      0     0    0        0   \n",
       "70         0.04       0.04           0.11      0     0    0        0   \n",
       "71         0.34       0.13           0.18      0     0    0        0   \n",
       "101        0.04       0.04           0.11      0     0    0        0   \n",
       "102        0.09       0.04           0.11      0     0    0        0   \n",
       "\n",
       "     no_emotions  speech_count  \n",
       "69             1             0  \n",
       "70             1             1  \n",
       "71             1             2  \n",
       "101            1             3  \n",
       "102            1             4  "
      ]
     },
     "execution_count": 90,
     "metadata": {},
     "output_type": "execute_result"
    }
   ],
   "source": [
    "df_plot_1.head()"
   ]
  },
  {
   "cell_type": "code",
   "execution_count": 88,
   "id": "ddc59099",
   "metadata": {
    "ExecuteTime": {
     "end_time": "2022-04-27T14:49:45.153766Z",
     "start_time": "2022-04-27T14:49:44.924293Z"
    }
   },
   "outputs": [
    {
     "data": {
      "image/png": "[encoded data removed]",
      "text/plain": [
       "<Figure size 1080x576 with 4 Axes>"
      ]
     },
     "metadata": {
      "needs_background": "light"
     },
     "output_type": "display_data"
    }
   ],
   "source": [
    "fig, axs = plt.subplots(4, sharex=True, sharey=True, figsize=(15,8))\n",
    "fig.suptitle('Cameron and Bianca emotions relations in movie \"10 things i hate about you\"')\n",
    "\n",
    "mask = (df_plot_1['characterID_1'] == 'u0 ') & (df_plot_1['characterID_2'] == ' u2 ')\n",
    "\n",
    "axs[0].set_title(\"Anger\")\n",
    "axs[0].grid()\n",
    "axs[0].plot(df_plot_1.loc[mask, 'speech_count'],\n",
    "            df_plot_1.loc[mask, 'anger_proba'],\n",
    "           'tab:orange')\n",
    "\n",
    "axs[1].set_title(\"Fear\")\n",
    "axs[1].grid()\n",
    "axs[1].plot(df_plot_1.loc[mask, 'speech_count'],\n",
    "            df_plot_1.loc[mask, 'fear_proba'],\n",
    "            'tab:red')\n",
    "    \n",
    "axs[2].set_title(\"Joy\")\n",
    "axs[2].grid()\n",
    "axs[2].plot(df_plot_1.loc[mask, 'speech_count'],\n",
    "            df_plot_1.loc[mask, 'joy_proba'],\n",
    "            'tab:green')\n",
    "\n",
    "axs[3].set_title(\"Sadness\")\n",
    "axs[3].grid()\n",
    "axs[3].plot(df_plot_1.loc[mask, 'speech_count'],\n",
    "            df_plot_1.loc[mask, 'sadness_proba'],\n",
    "            'tab:blue')\n",
    "\n",
    "\n",
    "plt.show()"
   ]
  },
  {
   "cell_type": "code",
   "execution_count": 89,
   "id": "906f139d",
   "metadata": {
    "ExecuteTime": {
     "end_time": "2022-04-27T14:50:54.825715Z",
     "start_time": "2022-04-27T14:50:54.580585Z"
    }
   },
   "outputs": [
    {
     "data": {
      "image/png": "[encoded data removed]",
      "text/plain": [
       "<Figure size 1080x576 with 4 Axes>"
      ]
     },
     "metadata": {
      "needs_background": "light"
     },
     "output_type": "display_data"
    }
   ],
   "source": [
    "fig, axs = plt.subplots(4, sharex=True, sharey=True, figsize=(15,8))\n",
    "fig.suptitle('Kat and Bianca emotions relations in movie \"10 things i hate about you\"')\n",
    "\n",
    "mask = (df_plot_1['characterID_1'] == 'u0 ') & (df_plot_1['characterID_2'] == ' u5 ')\n",
    "\n",
    "axs[0].set_title(\"Anger\")\n",
    "axs[0].grid()\n",
    "axs[0].plot(df_plot_1.loc[mask, 'speech_count'],\n",
    "            df_plot_1.loc[mask, 'anger_proba'],\n",
    "           'tab:orange')\n",
    "\n",
    "axs[1].set_title(\"Fear\")\n",
    "axs[1].grid()\n",
    "axs[1].plot(df_plot_1.loc[mask, 'speech_count'],\n",
    "            df_plot_1.loc[mask, 'fear_proba'],\n",
    "            'tab:red')\n",
    "    \n",
    "axs[2].set_title(\"Joy\")\n",
    "axs[2].grid()\n",
    "axs[2].plot(df_plot_1.loc[mask, 'speech_count'],\n",
    "            df_plot_1.loc[mask, 'joy_proba'],\n",
    "            'tab:green')\n",
    "\n",
    "axs[3].set_title(\"Sadness\")\n",
    "axs[3].grid()\n",
    "axs[3].plot(df_plot_1.loc[mask, 'speech_count'],\n",
    "            df_plot_1.loc[mask, 'sadness_proba'],\n",
    "            'tab:blue')\n",
    "\n",
    "\n",
    "plt.show()"
   ]
  },
  {
   "cell_type": "code",
   "execution_count": null,
   "id": "34af7d62",
   "metadata": {},
   "outputs": [],
   "source": []
  }
 ],
 "metadata": {
  "kernelspec": {
   "display_name": "Python 3 (ipykernel)",
   "language": "python",
   "name": "python3"
  },
  "language_info": {
   "codemirror_mode": {
    "name": "ipython",
    "version": 3
   },
   "file_extension": ".py",
   "mimetype": "text/x-python",
   "name": "python",
   "nbconvert_exporter": "python",
   "pygments_lexer": "ipython3",
   "version": "3.9.7"
  },
  "toc": {
   "base_numbering": 1,
   "nav_menu": {},
   "number_sections": true,
   "sideBar": true,
   "skip_h1_title": false,
   "title_cell": "Table of Contents",
   "title_sidebar": "Contents",
   "toc_cell": false,
   "toc_position": {
    "height": "calc(100% - 180px)",
    "left": "10px",
    "top": "150px",
    "width": "302.398px"
   },
   "toc_section_display": true,
   "toc_window_display": true
  }
 },
 "nbformat": 4,
 "nbformat_minor": 5
}
